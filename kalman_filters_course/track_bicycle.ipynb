{
  "nbformat": 4,
  "nbformat_minor": 0,
  "metadata": {
    "colab": {
      "name": "track_bicycle.ipynb",
      "provenance": [],
      "collapsed_sections": [],
      "authorship_tag": "ABX9TyOtpMNWkejVFUOkxWZR6BDn",
      "include_colab_link": true
    },
    "kernelspec": {
      "name": "python3",
      "display_name": "Python 3"
    },
    "language_info": {
      "name": "python"
    }
  },
  "cells": [
    {
      "cell_type": "markdown",
      "metadata": {
        "id": "view-in-github",
        "colab_type": "text"
      },
      "source": [
        "<a href=\"https://colab.research.google.com/github/blueeagle100/think_autonomous/blob/main/kalman_filters_course/track_bicycle.ipynb\" target=\"_parent\"><img src=\"https://colab.research.google.com/assets/colab-badge.svg\" alt=\"Open In Colab\"/></a>"
      ]
    },
    {
      "cell_type": "markdown",
      "source": [
        "# Final Project for Think Autonoumous Kalman Filters Course"
      ],
      "metadata": {
        "id": "qYNHHnHkWmAi"
      }
    },
    {
      "cell_type": "code",
      "source": [
        "# !git clone https://github.com/ultralytics/yolov5  # clone\n",
        "# %cd yolov5\n",
        "# %pip install -qr requirements.txt  # install\n",
        "# !ls"
      ],
      "metadata": {
        "colab": {
          "base_uri": "https://localhost:8080/"
        },
        "id": "y3FuVdsaWfOT",
        "outputId": "14e1db58-949f-4e31-f6a7-0b7c01558701"
      },
      "execution_count": 6,
      "outputs": [
        {
          "output_type": "stream",
          "name": "stdout",
          "text": [
            "Cloning into 'yolov5'...\n",
            "remote: Enumerating objects: 12447, done.\u001b[K\n",
            "remote: Total 12447 (delta 0), reused 0 (delta 0), pack-reused 12447\u001b[K\n",
            "Receiving objects: 100% (12447/12447), 12.15 MiB | 7.08 MiB/s, done.\n",
            "Resolving deltas: 100% (8591/8591), done.\n",
            "/content/drive/MyDrive/think_autonomous/kalman_filters_course/yolov5\n",
            "CONTRIBUTING.md  export.py   models\t       setup.cfg       utils\n",
            "data\t\t hubconf.py  README.md\t       train.py        val.py\n",
            "detect.py\t LICENSE     requirements.txt  tutorial.ipynb\n"
          ]
        }
      ]
    },
    {
      "cell_type": "code",
      "source": [
        "# import os\n",
        "# from google.colab import drive\n",
        "# drive.mount('/content/drive', force_remount=False)\n",
        "\n",
        "# os.chdir(\"/content/drive/My Drive/think_autonomous/kalman_filters_course\")\n",
        "# !ls"
      ],
      "metadata": {
        "colab": {
          "base_uri": "https://localhost:8080/"
        },
        "id": "J8ktdsPUWr8f",
        "outputId": "0921b3ac-d086-42a3-8ac7-0ce27c4c22d3"
      },
      "execution_count": 3,
      "outputs": [
        {
          "output_type": "stream",
          "name": "stdout",
          "text": [
            "Mounted at /content/drive\n",
            "'Designing a Kalman Filter.ipynb'\t    Probabilities.ipynb\n",
            "'Designing a Kalman Filter Starter.ipynb'   __pycache__\n",
            " Final_Project.ipynb\t\t\t    README.md\n",
            " Final_Project_Starter.ipynb\t\t    yolo_for_tracking_2.py\n",
            " images\n"
          ]
        }
      ]
    },
    {
      "cell_type": "code",
      "source": [
        "# !python yolov5/detect.py --weights yolov5s.pt --conf 0.4 --source images/VIRAT_S_010204_09_001285_001336.mp4"
      ],
      "metadata": {
        "id": "B7BxcfJeW6_3"
      },
      "execution_count": null,
      "outputs": []
    },
    {
      "cell_type": "code",
      "source": [
        "# fp = 'yolov5/runs/detect/exp4'\n",
        "# os.path.exists(fp)"
      ],
      "metadata": {
        "colab": {
          "base_uri": "https://localhost:8080/"
        },
        "id": "UX0gf3U0gDt-",
        "outputId": "779c14cf-1a45-4863-a97b-53b66e4a9d96"
      },
      "execution_count": 21,
      "outputs": [
        {
          "output_type": "execute_result",
          "data": {
            "text/plain": [
              "True"
            ]
          },
          "metadata": {},
          "execution_count": 21
        }
      ]
    },
    {
      "cell_type": "code",
      "source": [
        "# !pwd"
      ],
      "metadata": {
        "colab": {
          "base_uri": "https://localhost:8080/"
        },
        "id": "ZY-wxWJ_gK6q",
        "outputId": "aa1f0dce-299c-4702-b7bf-5aebcc01f841"
      },
      "execution_count": 22,
      "outputs": [
        {
          "output_type": "stream",
          "name": "stdout",
          "text": [
            "/content/drive/MyDrive/think_autonomous/kalman_filters_course\n"
          ]
        }
      ]
    },
    {
      "cell_type": "code",
      "source": [
        "# !cd /content/drive/MyDrive/think_autonomous/kalman_filters_course/yolov5/runs/detect/exp4"
      ],
      "metadata": {
        "id": "ItaD9fMkgPOY"
      },
      "execution_count": 28,
      "outputs": []
    },
    {
      "cell_type": "code",
      "source": [
        "# !pwd"
      ],
      "metadata": {
        "colab": {
          "base_uri": "https://localhost:8080/"
        },
        "id": "bU_7xx1sgUsa",
        "outputId": "c6c25a16-0def-4871-f211-f77906163058"
      },
      "execution_count": 29,
      "outputs": [
        {
          "output_type": "stream",
          "name": "stdout",
          "text": [
            "/content/drive/MyDrive/think_autonomous/kalman_filters_course\n"
          ]
        }
      ]
    },
    {
      "cell_type": "code",
      "source": [
        "# !ls"
      ],
      "metadata": {
        "colab": {
          "base_uri": "https://localhost:8080/"
        },
        "id": "kbTMIPBSgSwc",
        "outputId": "9323dbdb-0c90-4ca8-b451-faa93af65cc4"
      },
      "execution_count": 24,
      "outputs": [
        {
          "output_type": "stream",
          "name": "stdout",
          "text": [
            "'Designing a Kalman Filter.ipynb'\t    __pycache__\n",
            "'Designing a Kalman Filter Starter.ipynb'   README.md\n",
            " Final_Project.ipynb\t\t\t    yolo_for_tracking_2.py\n",
            " Final_Project_Starter.ipynb\t\t    yolov5\n",
            " images\t\t\t\t\t    yolov5s.pt\n",
            " Probabilities.ipynb\n"
          ]
        }
      ]
    },
    {
      "cell_type": "code",
      "source": [
        "!pip install yolo5 # version 0.0.1 used at the moment of recording"
      ],
      "metadata": {
        "id": "jQsUB4cRZw2k"
      },
      "execution_count": null,
      "outputs": []
    },
    {
      "cell_type": "code",
      "source": [
        "!pip install Pillow==7.1.2"
      ],
      "metadata": {
        "id": "hHqiHkZyZ4dS"
      },
      "execution_count": null,
      "outputs": []
    },
    {
      "cell_type": "code",
      "source": [
        "!ls"
      ],
      "metadata": {
        "colab": {
          "base_uri": "https://localhost:8080/"
        },
        "id": "kJYWxUbUZ1Mk",
        "outputId": "addf18a3-23f6-4e98-ba71-63f3f253add1"
      },
      "execution_count": 1,
      "outputs": [
        {
          "output_type": "stream",
          "name": "stdout",
          "text": [
            "drive  sample_data  yolov5\n"
          ]
        }
      ]
    },
    {
      "cell_type": "code",
      "source": [
        "# get model weights\n",
        "\n",
        "!git clone https://github.com/ultralytics/yolov5  # clone\n",
        "%cd yolov5\n",
        "%pip install -qr requirements.txt  # install\n",
        "!ls"
      ],
      "metadata": {
        "colab": {
          "base_uri": "https://localhost:8080/"
        },
        "id": "kEq7Toh7aDUV",
        "outputId": "f4fc144b-aa56-41bd-82e8-abde16c2c121"
      },
      "execution_count": 2,
      "outputs": [
        {
          "output_type": "stream",
          "name": "stdout",
          "text": [
            "fatal: destination path 'yolov5' already exists and is not an empty directory.\n",
            "/content/yolov5\n",
            "CONTRIBUTING.md  export.py   models\t       setup.cfg       utils\n",
            "data\t\t hubconf.py  README.md\t       train.py        val.py\n",
            "detect.py\t LICENSE     requirements.txt  tutorial.ipynb\n"
          ]
        }
      ]
    },
    {
      "cell_type": "code",
      "source": [
        "import os\n",
        "from google.colab import drive\n",
        "drive.mount('/content/drive', force_remount=False)\n",
        "\n",
        "os.chdir(\"/content/drive/My Drive/think_autonomous/kalman_filters_course\")\n",
        "!ls"
      ],
      "metadata": {
        "colab": {
          "base_uri": "https://localhost:8080/"
        },
        "id": "AuOiTzKWasZE",
        "outputId": "d90a30c6-f0ae-4ce3-9e23-43dff743d61b"
      },
      "execution_count": 3,
      "outputs": [
        {
          "output_type": "stream",
          "name": "stdout",
          "text": [
            "Drive already mounted at /content/drive; to attempt to forcibly remount, call drive.mount(\"/content/drive\", force_remount=True).\n",
            "'Designing a Kalman Filter.ipynb'\t    __pycache__\n",
            "'Designing a Kalman Filter Starter.ipynb'   README.md\n",
            " Final_Project.ipynb\t\t\t    yolo_for_tracking_2.py\n",
            " Final_Project_Starter.ipynb\t\t    yolov5\n",
            " images\t\t\t\t\t    yolov5s.pt\n",
            " Probabilities.ipynb\n"
          ]
        }
      ]
    },
    {
      "cell_type": "code",
      "source": [
        "import yolov5\n",
        "\n",
        "# load model\n",
        "model = yolov5.load('yolov5/models/yolov5s.pt')"
      ],
      "metadata": {
        "id": "L_zLUqxAXmKw"
      },
      "execution_count": 4,
      "outputs": []
    },
    {
      "cell_type": "code",
      "source": [
        "model.conf = 0.5\n",
        "model.iou = 0.4"
      ],
      "metadata": {
        "id": "GWY6yMWbZr8l"
      },
      "execution_count": 5,
      "outputs": []
    },
    {
      "cell_type": "code",
      "source": [
        "import os\n",
        "os.path.exists('images')"
      ],
      "metadata": {
        "colab": {
          "base_uri": "https://localhost:8080/"
        },
        "id": "lYXUUG2yaUFt",
        "outputId": "dd7f62cb-07bf-44d4-c069-388119004e51"
      },
      "execution_count": 6,
      "outputs": [
        {
          "output_type": "execute_result",
          "data": {
            "text/plain": [
              "True"
            ]
          },
          "metadata": {},
          "execution_count": 6
        }
      ]
    },
    {
      "cell_type": "code",
      "source": [
        "os.getcwd()"
      ],
      "metadata": {
        "colab": {
          "base_uri": "https://localhost:8080/",
          "height": 35
        },
        "id": "zDIQKqOCahn9",
        "outputId": "a5556c70-55d6-43ba-ca5a-dc81b02c98aa"
      },
      "execution_count": 7,
      "outputs": [
        {
          "output_type": "execute_result",
          "data": {
            "text/plain": [
              "'/content/drive/My Drive/think_autonomous/kalman_filters_course'"
            ],
            "application/vnd.google.colaboratory.intrinsic+json": {
              "type": "string"
            }
          },
          "metadata": {},
          "execution_count": 7
        }
      ]
    },
    {
      "cell_type": "code",
      "source": [
        "import time\n",
        "import yaml\n",
        "import numpy as np\n",
        "import cv2\n",
        "import matplotlib.pyplot as plt\n",
        "%matplotlib inline"
      ],
      "metadata": {
        "id": "j9baE3Ay8HzU"
      },
      "execution_count": 60,
      "outputs": []
    },
    {
      "cell_type": "markdown",
      "source": [
        "#### Get MSCOCO classes"
      ],
      "metadata": {
        "id": "qCKp0KZP_Uke"
      }
    },
    {
      "cell_type": "code",
      "source": [
        "!ls"
      ],
      "metadata": {
        "colab": {
          "base_uri": "https://localhost:8080/"
        },
        "id": "15ZNnlfk_q5o",
        "outputId": "c6ed8ff7-99d6-4742-f595-e8f39ed0905f"
      },
      "execution_count": 15,
      "outputs": [
        {
          "output_type": "stream",
          "name": "stdout",
          "text": [
            "'Designing a Kalman Filter.ipynb'\t    __pycache__\n",
            "'Designing a Kalman Filter Starter.ipynb'   README.md\n",
            " Final_Project.ipynb\t\t\t    yolo_for_tracking_2.py\n",
            " Final_Project_Starter.ipynb\t\t    yolov5\n",
            " images\t\t\t\t\t    yolov5s.pt\n",
            " Probabilities.ipynb\n"
          ]
        }
      ]
    },
    {
      "cell_type": "code",
      "source": [
        "os.path.exists('yolov5/data')"
      ],
      "metadata": {
        "colab": {
          "base_uri": "https://localhost:8080/"
        },
        "id": "JWQdoI10_zIC",
        "outputId": "5cbafa53-9f4b-49d0-cc52-694063656fc7"
      },
      "execution_count": 19,
      "outputs": [
        {
          "output_type": "execute_result",
          "data": {
            "text/plain": [
              "True"
            ]
          },
          "metadata": {},
          "execution_count": 19
        }
      ]
    },
    {
      "cell_type": "code",
      "source": [
        "fp = r'yolov5/data/coco128.yaml'\n",
        "\n",
        "with open(fp, \"r\") as stream:\n",
        "    try:\n",
        "        coco_info = yaml.safe_load(stream)\n",
        "    except yaml.YAMLError as exc:\n",
        "        print(exc)\n",
        "\n",
        "# get classes dictionary\n",
        "classes = {i : name for i, name in enumerate(coco_info['names'])}"
      ],
      "metadata": {
        "id": "TuZW5mQn_Z3d"
      },
      "execution_count": 28,
      "outputs": []
    },
    {
      "cell_type": "markdown",
      "source": [
        "#### Helper functions"
      ],
      "metadata": {
        "id": "oqascmsY_WVi"
      }
    },
    {
      "cell_type": "code",
      "source": [
        "def id_to_color(idx):\n",
        "    \"\"\"\n",
        "    Random function to convert an id to a color\n",
        "    Do what you want here but keep numbers below 255\n",
        "    \"\"\"\n",
        "    blue = idx*5 % 256\n",
        "    green = idx*12 %256\n",
        "    red = idx*23 %256\n",
        "    return (red, green, blue)\n",
        "\n",
        "def draw_boxes_v5(image_in, boxes, categories, mot_mode=False):\n",
        "    image = image_in.copy()\n",
        "    h, w, _ = image.shape\n",
        "    for i, box in enumerate(boxes):\n",
        "        label = classes[int(categories[i])]\n",
        "        color = id_to_color(i*10) if mot_mode==True else (255,0,60)\n",
        "        cv2.rectangle(image, (int(box[0]), int(box[1])), (int(box[2]), int(box[3])), color, thickness=3)\n",
        "        cv2.putText(image, str(label), (int(box[0]), int(box[1])), cv2.FONT_HERSHEY_SIMPLEX, 1, (255,255,255), thickness=3)\n",
        "    return image\n",
        "\n",
        "def inference(img, draw_boxes=True):\n",
        "    results = model(img)\n",
        "    predictions = results.pred[0]\n",
        "    boxes = predictions[:, :4].tolist()\n",
        "    boxes_int = [[int(v) for v in box] for box in boxes]\n",
        "    scores = predictions[:,4].tolist()\n",
        "    categories = predictions[:,5].tolist()\n",
        "    categories_int = [int(c) for c in categories]\n",
        "    \n",
        "    if draw_boxes:\n",
        "      img_out = draw_boxes_v5(img, boxes_int, categories_int, mot_mode=False)\n",
        "    else:\n",
        "      img_out = img.copy()\n",
        "\n",
        "    # change everything to arrays\n",
        "    boxes_int = np.array(boxes_int)\n",
        "    categories_int = np.array(categories_int)\n",
        "    scores = np.array(scores)\n",
        "    return img_out, boxes_int, categories_int, scores"
      ],
      "metadata": {
        "id": "NNOIa_DQ-jQE"
      },
      "execution_count": 119,
      "outputs": []
    },
    {
      "cell_type": "markdown",
      "source": [
        "## Get Bicycle bounding boxes and X-Y location in each frame"
      ],
      "metadata": {
        "id": "gEQrQXOGBoBw"
      }
    },
    {
      "cell_type": "code",
      "source": [
        "# trim video\n",
        "from moviepy.editor import VideoFileClip\n",
        "# from google.colab.patches import cv2_imshow\n",
        "\n",
        "video_path = r'images/VIRAT_S_010204_09_001285_001336.mp4'\n",
        "clip = VideoFileClip(video_path).subclip(15,25)\n",
        "\n",
        "clip.write_videofile(r'images/VIRAT_S_010204_09_001285_001336_BICYCLE_TRIM.mp4')"
      ],
      "metadata": {
        "colab": {
          "base_uri": "https://localhost:8080/"
        },
        "id": "CBMI78yUDNxv",
        "outputId": "c27c7742-9140-4077-be2d-b0e9126fe973"
      },
      "execution_count": 61,
      "outputs": [
        {
          "output_type": "stream",
          "name": "stdout",
          "text": [
            "Imageio: 'ffmpeg-linux64-v3.3.1' was not found on your computer; downloading it now.\n",
            "Try 1. Download from https://github.com/imageio/imageio-binaries/raw/master/ffmpeg/ffmpeg-linux64-v3.3.1 (43.8 MB)\n",
            "Downloading: 8192/45929032 bytes (0.0%)\b\b\b\b\b\b\b\b\b\b\b\b\b\b\b\b\b\b\b\b\b\b\b\b\b\b2023424/45929032 bytes (4.4%)\b\b\b\b\b\b\b\b\b\b\b\b\b\b\b\b\b\b\b\b\b\b\b\b\b\b\b\b\b4866048/45929032 bytes (10.6%)\b\b\b\b\b\b\b\b\b\b\b\b\b\b\b\b\b\b\b\b\b\b\b\b\b\b\b\b\b\b7421952/45929032 bytes (16.2%)\b\b\b\b\b\b\b\b\b\b\b\b\b\b\b\b\b\b\b\b\b\b\b\b\b\b\b\b\b\b10395648/45929032 bytes (22.6%)\b\b\b\b\b\b\b\b\b\b\b\b\b\b\b\b\b\b\b\b\b\b\b\b\b\b\b\b\b\b\b13451264/45929032 bytes (29.3%)\b\b\b\b\b\b\b\b\b\b\b\b\b\b\b\b\b\b\b\b\b\b\b\b\b\b\b\b\b\b\b16474112/45929032 bytes (35.9%)\b\b\b\b\b\b\b\b\b\b\b\b\b\b\b\b\b\b\b\b\b\b\b\b\b\b\b\b\b\b\b19365888/45929032 bytes (42.2%)\b\b\b\b\b\b\b\b\b\b\b\b\b\b\b\b\b\b\b\b\b\b\b\b\b\b\b\b\b\b\b22069248/45929032 bytes (48.1%)\b\b\b\b\b\b\b\b\b\b\b\b\b\b\b\b\b\b\b\b\b\b\b\b\b\b\b\b\b\b\b24895488/45929032 bytes (54.2%)\b\b\b\b\b\b\b\b\b\b\b\b\b\b\b\b\b\b\b\b\b\b\b\b\b\b\b\b\b\b\b27721728/45929032 bytes (60.4%)\b\b\b\b\b\b\b\b\b\b\b\b\b\b\b\b\b\b\b\b\b\b\b\b\b\b\b\b\b\b\b30703616/45929032 bytes (66.9%)\b\b\b\b\b\b\b\b\b\b\b\b\b\b\b\b\b\b\b\b\b\b\b\b\b\b\b\b\b\b\b33546240/45929032 bytes (73.0%)\b\b\b\b\b\b\b\b\b\b\b\b\b\b\b\b\b\b\b\b\b\b\b\b\b\b\b\b\b\b\b36364288/45929032 bytes (79.2%)\b\b\b\b\b\b\b\b\b\b\b\b\b\b\b\b\b\b\b\b\b\b\b\b\b\b\b\b\b\b\b39223296/45929032 bytes (85.4%)\b\b\b\b\b\b\b\b\b\b\b\b\b\b\b\b\b\b\b\b\b\b\b\b\b\b\b\b\b\b\b42106880/45929032 bytes (91.7%)\b\b\b\b\b\b\b\b\b\b\b\b\b\b\b\b\b\b\b\b\b\b\b\b\b\b\b\b\b\b\b44949504/45929032 bytes (97.9%)\b\b\b\b\b\b\b\b\b\b\b\b\b\b\b\b\b\b\b\b\b\b\b\b\b\b\b\b\b\b\b45929032/45929032 bytes (100.0%)\n",
            "  Done\n",
            "File saved as /root/.imageio/ffmpeg/ffmpeg-linux64-v3.3.1.\n",
            "[MoviePy] >>>> Building video images/VIRAT_S_010204_09_001285_001336_BICYCLE_TRIM.mp4\n",
            "[MoviePy] Writing video images/VIRAT_S_010204_09_001285_001336_BICYCLE_TRIM.mp4\n"
          ]
        },
        {
          "output_type": "stream",
          "name": "stderr",
          "text": [
            "100%|██████████| 240/240 [00:08<00:00, 27.66it/s]\n"
          ]
        },
        {
          "output_type": "stream",
          "name": "stdout",
          "text": [
            "[MoviePy] Done.\n",
            "[MoviePy] >>>> Video ready: images/VIRAT_S_010204_09_001285_001336_BICYCLE_TRIM.mp4 \n",
            "\n"
          ]
        }
      ]
    },
    {
      "cell_type": "code",
      "source": [
        "# from google.colab.patches import cv2_imshow\n",
        "\n",
        "video_path = r'images/VIRAT_S_010204_09_001285_001336_BICYCLE_TRIM.mp4'\n",
        "\n",
        "# store outputs in lists\n",
        "output_frames = []\n",
        "BICYCLE_MEASUREMENTS = []\n",
        "TIMESTAMPS = []\n",
        "\n",
        "cap = cv2.VideoCapture(video_path)\n",
        "if not cap.isOpened():\n",
        "    print(\"Cannot open camera\")\n",
        "    exit()\n",
        "while True:\n",
        "    # Capture frame-by-frame\n",
        "    ret, frame = cap.read()\n",
        "    # if frame is read correctly ret is True\n",
        "    if not ret:\n",
        "        print(\"Can't receive frame (stream end?). Exiting ...\")\n",
        "        break\n",
        "\n",
        "    # prepare frame for model input\n",
        "    frame = cv2.cvtColor(frame, cv2.COLOR_BGR2RGB)\n",
        "    # frame = cv2.resize(frame, (640, 640), interpolation=cv2.INTER_AREA)\n",
        "    img_out, boxes_int, categories_int, scores = inference(frame)\n",
        "    \n",
        "    \n",
        "    # update time stamps\n",
        "    TIMESTAMPS.append(time.time())\n",
        "\n",
        "    # if a Bicycle was detected draw boxes\n",
        "    if 1 in categories_int:\n",
        "      bicycle_locs = categories_int == 1\n",
        "      boxes = boxes_int[bicycle_locs]\n",
        "      cats = categories_int[bicycle_locs]\n",
        "\n",
        "      # draw bicycle bounding box\n",
        "      boxed_image = draw_boxes_v5(img_out, boxes, cats, mot_mode=True)\n",
        "      output_frames.append(boxed_image)\n",
        "      \n",
        "      # update bicycle location\n",
        "      x1, y1 = boxes[0][0], boxes[0][1]\n",
        "      x2, y2 = boxes[0][2], boxes[0][3]\n",
        "      x = (x1 + x2) / 2\n",
        "      y = (y1 + y2) / 2\n",
        "      BICYCLE_MEASUREMENTS.append([x, y])\n",
        "\n",
        "    # else add not detected string\n",
        "    else:\n",
        "      BICYCLE_MEASUREMENTS.append(\"Not detected\")\n",
        "      output_frames.append(img_out)\n",
        "\n",
        "\n",
        "    # Display the resulting frame\n",
        "    # cv2_imshow(gray)\n",
        "    # if cv2.waitKey(1) == ord('q'):\n",
        "    #     break\n",
        "# When everything done, release the capture\n",
        "cap.release()\n",
        "cv2.destroyAllWindows()"
      ],
      "metadata": {
        "colab": {
          "base_uri": "https://localhost:8080/"
        },
        "id": "5kbKtLj3ai5-",
        "outputId": "5d75d0f7-dc62-4bd1-8975-1cd3d85deeaa"
      },
      "execution_count": 101,
      "outputs": [
        {
          "output_type": "stream",
          "name": "stdout",
          "text": [
            "Can't receive frame (stream end?). Exiting ...\n"
          ]
        }
      ]
    },
    {
      "cell_type": "code",
      "source": [
        "BICYCLE_MEASUREMENTS"
      ],
      "metadata": {
        "id": "YI4Jb4TTE9Ib"
      },
      "execution_count": null,
      "outputs": []
    },
    {
      "cell_type": "code",
      "source": [
        "img_out.shape"
      ],
      "metadata": {
        "id": "c9mnjSPE9c7L"
      },
      "execution_count": null,
      "outputs": []
    },
    {
      "cell_type": "code",
      "source": [
        "boxes_int"
      ],
      "metadata": {
        "id": "2w10r_H6AhSR"
      },
      "execution_count": null,
      "outputs": []
    },
    {
      "cell_type": "code",
      "source": [
        "boxes"
      ],
      "metadata": {
        "id": "1c9IxcODEkXf"
      },
      "execution_count": null,
      "outputs": []
    },
    {
      "cell_type": "code",
      "source": [
        "categories_int"
      ],
      "metadata": {
        "id": "CTfsqT9JAk6Q"
      },
      "execution_count": null,
      "outputs": []
    },
    {
      "cell_type": "code",
      "source": [
        "tmp = [cat == 1 for cat in categories_int]\n",
        "tmp"
      ],
      "metadata": {
        "id": "ao89lBwOBzIT"
      },
      "execution_count": null,
      "outputs": []
    },
    {
      "cell_type": "code",
      "source": [
        "boxed_image = draw_boxes_v5(img_out, boxes, cats, mot_mode=True)"
      ],
      "metadata": {
        "id": "DTDAxeE7AnIT"
      },
      "execution_count": 103,
      "outputs": []
    },
    {
      "cell_type": "code",
      "source": [
        "plt.imshow(boxed_image);"
      ],
      "metadata": {
        "colab": {
          "base_uri": "https://localhost:8080/",
          "height": 240
        },
        "id": "2l7XNISuAx8p",
        "outputId": "96cdfd87-033e-483a-ba61-5408a0c81234"
      },
      "execution_count": 104,
      "outputs": [
        {
          "output_type": "display_data",
          "data": {
            "text/plain": [
              "<Figure size 432x288 with 1 Axes>"
            ],
            "image/png": "[encoded data removed]"
          },
          "metadata": {
            "needs_background": "light"
          }
        }
      ]
    },
    {
      "cell_type": "code",
      "source": [
        "len(output_frames)"
      ],
      "metadata": {
        "colab": {
          "base_uri": "https://localhost:8080/"
        },
        "id": "Prqs7AUNAzb1",
        "outputId": "823e7563-4513-4627-cdee-f85fcbcea867"
      },
      "execution_count": 105,
      "outputs": [
        {
          "output_type": "execute_result",
          "data": {
            "text/plain": [
              "240"
            ]
          },
          "metadata": {},
          "execution_count": 105
        }
      ]
    },
    {
      "cell_type": "code",
      "source": [
        "from tqdm import tqdm\n",
        "\n",
        "\n",
        "result_video = []\n",
        "\n",
        "for img in tqdm(output_frames):\n",
        "    result_video.append(img)"
      ],
      "metadata": {
        "colab": {
          "base_uri": "https://localhost:8080/"
        },
        "id": "F9FZd5eUA76Z",
        "outputId": "edb7bf48-f835-406f-8bf4-edddf3d453a3"
      },
      "execution_count": 107,
      "outputs": [
        {
          "output_type": "stream",
          "name": "stderr",
          "text": [
            "100%|██████████| 240/240 [00:00<00:00, 632307.14it/s]\n"
          ]
        }
      ]
    },
    {
      "cell_type": "code",
      "source": [
        "out = cv2.VideoWriter('images/BICYCLE_DETECT.mp4',cv2.VideoWriter_fourcc(*'MP4V'), 15, (img.shape[1],img.shape[0]))\n",
        "\n",
        "for img in result_video:\n",
        "  out.write(cv2.cvtColor(img, cv2.COLOR_BGR2RGB))\n",
        "out.release()"
      ],
      "metadata": {
        "id": "ekuNhciGBKrj"
      },
      "execution_count": 108,
      "outputs": []
    },
    {
      "cell_type": "markdown",
      "source": [
        "## Get Kalman Filter to track Bicycle"
      ],
      "metadata": {
        "id": "HSOBtQRcPoRo"
      }
    },
    {
      "cell_type": "code",
      "source": [
        "!pip install filterpy"
      ],
      "metadata": {
        "colab": {
          "base_uri": "https://localhost:8080/"
        },
        "id": "rnXr_PX5NokI",
        "outputId": "e874ea98-bda6-4c1c-dd3f-ef6a780bd1d7"
      },
      "execution_count": 109,
      "outputs": [
        {
          "output_type": "stream",
          "name": "stdout",
          "text": [
            "Looking in indexes: https://pypi.org/simple, https://us-python.pkg.dev/colab-wheels/public/simple/\n",
            "Collecting filterpy\n",
            "  Downloading filterpy-1.4.5.zip (177 kB)\n",
            "\u001b[K     |████████████████████████████████| 177 kB 4.2 MB/s \n",
            "\u001b[?25hRequirement already satisfied: numpy in /usr/local/lib/python3.7/dist-packages (from filterpy) (1.21.6)\n",
            "Requirement already satisfied: scipy in /usr/local/lib/python3.7/dist-packages (from filterpy) (1.4.1)\n",
            "Requirement already satisfied: matplotlib in /usr/local/lib/python3.7/dist-packages (from filterpy) (3.2.2)\n",
            "Requirement already satisfied: cycler>=0.10 in /usr/local/lib/python3.7/dist-packages (from matplotlib->filterpy) (0.11.0)\n",
            "Requirement already satisfied: kiwisolver>=1.0.1 in /usr/local/lib/python3.7/dist-packages (from matplotlib->filterpy) (1.4.3)\n",
            "Requirement already satisfied: pyparsing!=2.0.4,!=2.1.2,!=2.1.6,>=2.0.1 in /usr/local/lib/python3.7/dist-packages (from matplotlib->filterpy) (3.0.9)\n",
            "Requirement already satisfied: python-dateutil>=2.1 in /usr/local/lib/python3.7/dist-packages (from matplotlib->filterpy) (2.8.2)\n",
            "Requirement already satisfied: typing-extensions in /usr/local/lib/python3.7/dist-packages (from kiwisolver>=1.0.1->matplotlib->filterpy) (4.1.1)\n",
            "Requirement already satisfied: six>=1.5 in /usr/local/lib/python3.7/dist-packages (from python-dateutil>=2.1->matplotlib->filterpy) (1.15.0)\n",
            "Building wheels for collected packages: filterpy\n",
            "  Building wheel for filterpy (setup.py) ... \u001b[?25l\u001b[?25hdone\n",
            "  Created wheel for filterpy: filename=filterpy-1.4.5-py3-none-any.whl size=110474 sha256=68a0e4bdafe1e3b3d3d93a649e8ddae91ff1c05843b893210a4e0736c297d833\n",
            "  Stored in directory: /root/.cache/pip/wheels/ce/e0/ee/a2b3c5caab3418c1ccd8c4de573d4cbe13315d7e8b0a55fbc2\n",
            "Successfully built filterpy\n",
            "Installing collected packages: filterpy\n",
            "Successfully installed filterpy-1.4.5\n"
          ]
        }
      ]
    },
    {
      "cell_type": "code",
      "source": [
        "# just for fun, plot the bicycle path!\n",
        "\n",
        "fig, ax = plt.subplots(1, 1, figsize=(15, 8))\n",
        "for xy in BICYCLE_MEASUREMENTS:\n",
        "  if not isinstance(xy, str):\n",
        "    ax.scatter(xy[0], xy[1], marker='o', color='b')"
      ],
      "metadata": {
        "colab": {
          "base_uri": "https://localhost:8080/",
          "height": 483
        },
        "id": "b6HZb7n7PsMD",
        "outputId": "67262e96-ee12-4473-ed67-9344378e27f5"
      },
      "execution_count": 110,
      "outputs": [
        {
          "output_type": "display_data",
          "data": {
            "text/plain": [
              "<Figure size 1080x576 with 1 Axes>"
            ],
            "image/png": "[encoded data removed]"
          },
          "metadata": {
            "needs_background": "light"
          }
        }
      ]
    },
    {
      "cell_type": "code",
      "source": [
        "from filterpy.kalman import KalmanFilter\n",
        "from scipy.linalg import block_diag\n",
        "from filterpy.common import Q_discrete_white_noise\n",
        "import numpy as np\n",
        "import matplotlib.pyplot as plt\n",
        "\n",
        "\n",
        "def TwoDimensionsKF(R_std, Q_std, dt, w, h):\n",
        "    ''' creates and instantiates a filterpy 2D Kalman Filter object\n",
        "        with a 2D constant acceleration model\n",
        "        Inputs:\n",
        "            R_Std (float) - measurement uncertainty\n",
        "            Q_std (float) - Proccess noise covariance\n",
        "            dt (float) - System Time Step\n",
        "            w (int) - Frame Width\n",
        "            h (int) - Frame Height\n",
        "        Outputs:\n",
        "            kf (filterpy object) 2D Kalman Filter object\n",
        "    '''\n",
        "    kf = KalmanFilter(dim_x=6, dim_z=2)\n",
        "    kf.x = np.array([w//2, h//2, 0.1, 0.1, 0, 0]) # initial state (center of frame)\n",
        "    kf.P = np.eye(6)*100 # np.max([w//2, h//2])\n",
        "    q = Q_discrete_white_noise(dim=3, dt=dt, var=Q_std**2)\n",
        "    kf.Q = block_diag(q, q) # Process noise covariance\n",
        "    kf.R = np.eye(2) * R_std # measurement uncertainty/noise\n",
        "    kf.H = np.array([[1, 0, 0, 0, 0, 0],  # measurement function\n",
        "                     [0, 1, 0, 0, 0, 0]])\n",
        "    kf.F = np.array([[1, 0, dt, 0, 0.5*dt*dt, 0],     # state transition matrix\n",
        "                     [0, 1, 0,  dt, 0,        0.5*dt*dt],\n",
        "                     [0, 0, 1,  0,  dt,       0],\n",
        "                     [0, 0, 0,  1,  0,        dt],\n",
        "                     [0, 0, 0,  0,  1,        0],\n",
        "                     [0, 0, 0,  0,  0,        1]])\n",
        "\n",
        "    return kf"
      ],
      "metadata": {
        "id": "cbByzgLYPy-3"
      },
      "execution_count": 263,
      "outputs": []
    },
    {
      "cell_type": "code",
      "source": [
        "R_std = 15 # 5 # measurement uncertainty\n",
        "Q_std = 0.25 # 1.5 # process noise\n",
        "dt = np.mean(np.diff(TIMESTAMPS)) # time delta\n",
        "\n",
        "# frame width and height\n",
        "w, h = 1280, 720\n",
        "\n",
        "# initialize Kalman Filter\n",
        "kf = TwoDimensionsKF(R_std, Q_std, dt, w, h)\n",
        "\n",
        "# store values in lists\n",
        "updates = [] # estimates from measurement updates\n",
        "preds = [] # estimates from predictions\n",
        "\n",
        "# iterate through the measurements\n",
        "for xy in BICYCLE_MEASUREMENTS:\n",
        "    # Predict next state\n",
        "    kf.predict()\n",
        "\n",
        "    # update state with new measurement\n",
        "    if not isinstance(xy, str):\n",
        "       kf.update(xy)\n",
        "       updates.append(kf.x)\n",
        "    \n",
        "    # else:\n",
        "      # append prediction if measurment not taken\n",
        "    preds.append(kf.x)\n",
        "\n",
        "    # print(np.round(kf.P[0,0]))"
      ],
      "metadata": {
        "id": "jsH_Nq7oQFeh"
      },
      "execution_count": 264,
      "outputs": []
    },
    {
      "cell_type": "code",
      "source": [
        "updates_arr = np.array(updates)\n",
        "preds_arr = np.array(preds)\n",
        "pos_updates = updates_arr[:, :2]\n",
        "pos_preds = preds_arr[:, :2]\n",
        "\n",
        "print(updates_arr.shape)\n",
        "print(preds_arr.shape)"
      ],
      "metadata": {
        "colab": {
          "base_uri": "https://localhost:8080/"
        },
        "id": "Q8N5e8qFQKlW",
        "outputId": "7e78f0e2-d1cb-4836-bf4c-7ab9e62bbbb6"
      },
      "execution_count": 265,
      "outputs": [
        {
          "output_type": "stream",
          "name": "stdout",
          "text": [
            "(139, 6)\n",
            "(240, 6)\n"
          ]
        }
      ]
    },
    {
      "cell_type": "code",
      "source": [
        "fig = plt.figure(figsize=(15, 8))\n",
        "for xy in BICYCLE_MEASUREMENTS:\n",
        "  if not isinstance(xy, str):\n",
        "    plt.scatter(xy[0], xy[1], marker='D', color='b')\n",
        "\n",
        "plt.scatter(pos_updates[:, 0], pos_updates[:, 1], marker='d', color='m')\n",
        "plt.scatter(pos_preds[:, 0], pos_preds[:, 1], marker='.', color='r')"
      ],
      "metadata": {
        "colab": {
          "base_uri": "https://localhost:8080/",
          "height": 500
        },
        "id": "GlVZDA-AQL8-",
        "outputId": "8059488e-db15-416a-bff1-bf744ccc83e2"
      },
      "execution_count": 266,
      "outputs": [
        {
          "output_type": "execute_result",
          "data": {
            "text/plain": [
              "<matplotlib.collections.PathCollection at 0x7ff397f631d0>"
            ]
          },
          "metadata": {},
          "execution_count": 266
        },
        {
          "output_type": "display_data",
          "data": {
            "text/plain": [
              "<Figure size 1080x576 with 1 Axes>"
            ],
            "image/png": "[encoded data removed]"
          },
          "metadata": {
            "needs_background": "light"
          }
        }
      ]
    },
    {
      "cell_type": "code",
      "source": [
        "pos_preds[:20]"
      ],
      "metadata": {
        "colab": {
          "base_uri": "https://localhost:8080/"
        },
        "id": "mMOM4Z3JXvFq",
        "outputId": "15db3d86-d5b9-46ca-ca4d-ba7491d46934"
      },
      "execution_count": 267,
      "outputs": [
        {
          "output_type": "execute_result",
          "data": {
            "text/plain": [
              "array([[     640.03,      360.03],\n",
              "       [     640.06,      360.06],\n",
              "       [     640.09,      360.09],\n",
              "       [     640.11,      360.11],\n",
              "       [     640.14,      360.14],\n",
              "       [     300.82,      322.42],\n",
              "       [      273.3,       319.6],\n",
              "       [     273.45,      319.84],\n",
              "       [     283.59,      321.86],\n",
              "       [      294.3,      323.67],\n",
              "       [     303.64,      324.59],\n",
              "       [     312.44,      324.17],\n",
              "       [     326.39,      325.54],\n",
              "       [     330.23,       323.2],\n",
              "       [      336.4,      324.63],\n",
              "       [     343.17,       325.8],\n",
              "       [     350.58,      326.61],\n",
              "       [     356.33,      327.57],\n",
              "       [     361.27,      327.38],\n",
              "       [     366.67,      328.14]])"
            ]
          },
          "metadata": {},
          "execution_count": 267
        }
      ]
    },
    {
      "cell_type": "code",
      "source": [
        "R_std = 15 # 5 # measurement uncertainty\n",
        "Q_std = 0.25 # 1.5 # process noise\n",
        "dt = np.mean(np.diff(TIMESTAMPS)) # time delta\n",
        "\n",
        "# frame width and height\n",
        "w, h = 1280, 720\n",
        "\n",
        "# initialize Kalman Filter\n",
        "kf = TwoDimensionsKF(R_std, Q_std, dt, w, h)\n",
        "\n",
        "def main_pipeline(image):\n",
        "    # Predict next state\n",
        "    kf.predict()\n",
        "\n",
        "    # prepare frame for model input\n",
        "    image = cv2.cvtColor(image, cv2.COLOR_BGR2RGB)\n",
        "    img_out, boxes_int, categories_int, scores = inference(image, draw_boxes=False)\n",
        "\n",
        "    # if a Bicycle was detected draw boxes\n",
        "    if 1 in categories_int:\n",
        "      bicycle_locs = categories_int == 1\n",
        "      boxes = boxes_int[bicycle_locs]\n",
        "      cats = categories_int[bicycle_locs]\n",
        "\n",
        "      # draw bicycle bounding box\n",
        "      img_out = draw_boxes_v5(img_out, boxes, cats, mot_mode=True)\n",
        "      \n",
        "      # update bicycle location\n",
        "      x1, y1 = boxes[0][0], boxes[0][1]\n",
        "      x2, y2 = boxes[0][2], boxes[0][3]\n",
        "      x = (x1 + x2) / 2\n",
        "      y = (y1 + y2) / 2\n",
        "\n",
        "      # update state based on new measurement\n",
        "      kf.update(np.array([x, y]))\n",
        "\n",
        "    # else add not detected string\n",
        "    # else:\n",
        "    #   BICYCLE_MEASUREMENTS.append(\"Not detected\")\n",
        "    #   output_frames.append(img_out)\n",
        "\n",
        "    # draw new point on image\n",
        "    x_est, y_est = int(np.round(kf.x[0])), int(np.round(kf.x[1]))\n",
        "    cv2.circle(img_out, (x_est, y_est), 5, (0, 255, 0), -1)\n",
        "\n",
        "    return img_out\n",
        "\n"
      ],
      "metadata": {
        "id": "lpPrtOmRQO9a"
      },
      "execution_count": 270,
      "outputs": []
    },
    {
      "cell_type": "code",
      "source": [
        "from moviepy.editor import VideoFileClip\n",
        "# video_file = \"/content/drive/My Drive/think_autonomous/kalman_filters_course/images/detect.mp4\"\n",
        "video_path = r'images/VIRAT_S_010204_09_001285_001336_BICYCLE_TRIM.mp4'\n",
        "clip = VideoFileClip(video_path)\n",
        "tracked_clip = clip.fl_image(main_pipeline)\n",
        "%time tracked_clip.write_videofile(\"/content/drive/My Drive/think_autonomous/kalman_filters_course/track.mp4\",audio=False)"
      ],
      "metadata": {
        "colab": {
          "base_uri": "https://localhost:8080/"
        },
        "id": "hm0Yd1ELTUFf",
        "outputId": "e44d48b6-95e6-4c68-b6af-016f711e4767"
      },
      "execution_count": 271,
      "outputs": [
        {
          "output_type": "stream",
          "name": "stdout",
          "text": [
            "[MoviePy] >>>> Building video /content/drive/My Drive/think_autonomous/kalman_filters_course/track.mp4\n",
            "[MoviePy] Writing video /content/drive/My Drive/think_autonomous/kalman_filters_course/track.mp4\n"
          ]
        },
        {
          "output_type": "stream",
          "name": "stderr",
          "text": [
            "100%|█████████▉| 240/241 [01:25<00:00,  2.81it/s]\n"
          ]
        },
        {
          "output_type": "stream",
          "name": "stdout",
          "text": [
            "[MoviePy] Done.\n",
            "[MoviePy] >>>> Video ready: /content/drive/My Drive/think_autonomous/kalman_filters_course/track.mp4 \n",
            "\n",
            "CPU times: user 1min 17s, sys: 13.8 s, total: 1min 31s\n",
            "Wall time: 1min 26s\n"
          ]
        }
      ]
    },
    {
      "cell_type": "code",
      "source": [
        ""
      ],
      "metadata": {
        "id": "qj27TOQ_TYD4"
      },
      "execution_count": 252,
      "outputs": []
    }
  ]
}