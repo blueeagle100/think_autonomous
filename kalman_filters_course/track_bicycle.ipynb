{
  "nbformat": 4,
  "nbformat_minor": 0,
  "metadata": {
    "colab": {
      "name": "track_bicycle.ipynb",
      "provenance": [],
      "collapsed_sections": [],
      "authorship_tag": "ABX9TyOK8VR+RIATLbA2K+pVqxLb",
      "include_colab_link": true
    },
    "kernelspec": {
      "name": "python3",
      "display_name": "Python 3"
    },
    "language_info": {
      "name": "python"
    }
  },
  "cells": [
    {
      "cell_type": "markdown",
      "metadata": {
        "id": "view-in-github",
        "colab_type": "text"
      },
      "source": [
        "<a href=\"https://colab.research.google.com/github/blueeagle100/think_autonomous/blob/main/kalman_filters_course/track_bicycle.ipynb\" target=\"_parent\"><img src=\"https://colab.research.google.com/assets/colab-badge.svg\" alt=\"Open In Colab\"/></a>"
      ]
    },
    {
      "cell_type": "markdown",
      "source": [
        "# Final Project for Think Autonoumous Kalman Filters Course"
      ],
      "metadata": {
        "id": "qYNHHnHkWmAi"
      }
    },
    {
      "cell_type": "markdown",
      "source": [
        "### First download required packages and get folder structure from Google Drive"
      ],
      "metadata": {
        "id": "UEwBkS-gHtve"
      }
    },
    {
      "cell_type": "code",
      "source": [
        "!pip install yolo5 # version 0.0.1 used at the moment of recording"
      ],
      "metadata": {
        "id": "jQsUB4cRZw2k"
      },
      "execution_count": null,
      "outputs": []
    },
    {
      "cell_type": "code",
      "source": [
        "!pip install Pillow==7.1.2"
      ],
      "metadata": {
        "id": "hHqiHkZyZ4dS"
      },
      "execution_count": null,
      "outputs": []
    },
    {
      "cell_type": "code",
      "source": [
        "# get model weights\n",
        "\n",
        "!git clone https://github.com/ultralytics/yolov5  # clone\n",
        "%cd yolov5\n",
        "%pip install -qr requirements.txt  # install\n",
        "!ls"
      ],
      "metadata": {
        "colab": {
          "base_uri": "https://localhost:8080/"
        },
        "id": "kEq7Toh7aDUV",
        "outputId": "06bee770-3e1f-4acf-a870-cb1705895199"
      },
      "execution_count": 2,
      "outputs": [
        {
          "output_type": "stream",
          "name": "stdout",
          "text": [
            "Cloning into 'yolov5'...\n",
            "remote: Enumerating objects: 12447, done.\u001b[K\n",
            "remote: Total 12447 (delta 0), reused 0 (delta 0), pack-reused 12447\u001b[K\n",
            "Receiving objects: 100% (12447/12447), 12.15 MiB | 28.48 MiB/s, done.\n",
            "Resolving deltas: 100% (8591/8591), done.\n",
            "/content/yolov5\n",
            "CONTRIBUTING.md  export.py   models\t       setup.cfg       utils\n",
            "data\t\t hubconf.py  README.md\t       train.py        val.py\n",
            "detect.py\t LICENSE     requirements.txt  tutorial.ipynb\n"
          ]
        }
      ]
    },
    {
      "cell_type": "code",
      "source": [
        "import os\n",
        "from google.colab import drive\n",
        "drive.mount('/content/drive', force_remount=False)\n",
        "\n",
        "os.chdir(\"/content/drive/My Drive/think_autonomous/kalman_filters_course\")\n",
        "!ls"
      ],
      "metadata": {
        "colab": {
          "base_uri": "https://localhost:8080/"
        },
        "id": "AuOiTzKWasZE",
        "outputId": "c6422614-99e1-44a3-c0d1-93512dd7b83c"
      },
      "execution_count": 3,
      "outputs": [
        {
          "output_type": "stream",
          "name": "stdout",
          "text": [
            "Mounted at /content/drive\n",
            "'Designing a Kalman Filter.ipynb'\t    __pycache__\n",
            "'Designing a Kalman Filter Starter.ipynb'   README.md\n",
            " Final_Project.ipynb\t\t\t    track.mp4\n",
            " Final_Project_Starter.ipynb\t\t    yolo_for_tracking_2.py\n",
            " images\t\t\t\t\t    yolov5\n",
            " Probabilities.ipynb\t\t\t    yolov5s.pt\n"
          ]
        }
      ]
    },
    {
      "cell_type": "code",
      "source": [
        "import yolov5\n",
        "\n",
        "# load model\n",
        "model = yolov5.load('yolov5/models/yolov5s.pt')"
      ],
      "metadata": {
        "id": "L_zLUqxAXmKw"
      },
      "execution_count": 4,
      "outputs": []
    },
    {
      "cell_type": "code",
      "source": [
        "model.conf = 0.35 # 0.5\n",
        "model.iou = 0.4"
      ],
      "metadata": {
        "id": "GWY6yMWbZr8l"
      },
      "execution_count": 5,
      "outputs": []
    },
    {
      "cell_type": "code",
      "source": [
        "import time\n",
        "import yaml\n",
        "import numpy as np\n",
        "import cv2\n",
        "import matplotlib.pyplot as plt\n",
        "%matplotlib inline"
      ],
      "metadata": {
        "id": "j9baE3Ay8HzU"
      },
      "execution_count": 7,
      "outputs": []
    },
    {
      "cell_type": "markdown",
      "source": [
        "#### Get MSCOCO classes"
      ],
      "metadata": {
        "id": "qCKp0KZP_Uke"
      }
    },
    {
      "cell_type": "code",
      "source": [
        "fp = r'yolov5/data/coco128.yaml'\n",
        "\n",
        "with open(fp, \"r\") as stream:\n",
        "    try:\n",
        "        coco_info = yaml.safe_load(stream)\n",
        "    except yaml.YAMLError as exc:\n",
        "        print(exc)\n",
        "\n",
        "# get classes dictionary\n",
        "classes = {i : name for i, name in enumerate(coco_info['names'])}"
      ],
      "metadata": {
        "id": "TuZW5mQn_Z3d"
      },
      "execution_count": 8,
      "outputs": []
    },
    {
      "cell_type": "markdown",
      "source": [
        "#### Helper functions"
      ],
      "metadata": {
        "id": "oqascmsY_WVi"
      }
    },
    {
      "cell_type": "code",
      "source": [
        "def id_to_color(idx):\n",
        "    \"\"\"\n",
        "    Random function to convert an id to a color\n",
        "    (keep numbers below 255)\n",
        "    \"\"\"\n",
        "    blue = idx*5 % 256\n",
        "    green = idx*12 %256\n",
        "    red = idx*23 %256\n",
        "    return (red, green, blue)\n",
        "\n",
        "def draw_boxes_v5(image_in, boxes, categories, mot_mode=False):\n",
        "    image = image_in.copy()\n",
        "    h, w, _ = image.shape\n",
        "    for i, box in enumerate(boxes):\n",
        "        label = classes[int(categories[i])]\n",
        "        color = id_to_color(i*10) if mot_mode==True else (255,0,60)\n",
        "        cv2.rectangle(image, (int(box[0]), int(box[1])), (int(box[2]), int(box[3])), color, thickness=3)\n",
        "        cv2.putText(image, str(label), (int(box[0]), int(box[1])), cv2.FONT_HERSHEY_SIMPLEX, 1, (255,255,255), thickness=3)\n",
        "    return image\n",
        "\n",
        "def inference(img, draw_boxes=True):\n",
        "    results = model(img)\n",
        "    predictions = results.pred[0]\n",
        "    boxes = predictions[:, :4].tolist()\n",
        "    boxes_int = [[int(v) for v in box] for box in boxes]\n",
        "    scores = predictions[:,4].tolist()\n",
        "    categories = predictions[:,5].tolist()\n",
        "    categories_int = [int(c) for c in categories]\n",
        "    \n",
        "    if draw_boxes:\n",
        "      img_out = draw_boxes_v5(img, boxes_int, categories_int, mot_mode=False)\n",
        "    else:\n",
        "      img_out = img.copy()\n",
        "\n",
        "    # change everything to arrays\n",
        "    boxes_int = np.array(boxes_int)\n",
        "    categories_int = np.array(categories_int)\n",
        "    scores = np.array(scores)\n",
        "    return img_out, boxes_int, categories_int, scores"
      ],
      "metadata": {
        "id": "NNOIa_DQ-jQE"
      },
      "execution_count": 9,
      "outputs": []
    },
    {
      "cell_type": "markdown",
      "source": [
        "## Get Bicycle bounding boxes and X-Y location in each frame"
      ],
      "metadata": {
        "id": "gEQrQXOGBoBw"
      }
    },
    {
      "cell_type": "code",
      "source": [
        "# trim video if trimmed video not in direcotry\n",
        "from moviepy.editor import VideoFileClip\n",
        "# from google.colab.patches import cv2_imshow\n",
        "\n",
        "video_path = r'images/VIRAT_S_010204_09_001285_001336.mp4'\n",
        "clip = VideoFileClip(video_path).subclip(15,25)\n",
        "\n",
        "clip.write_videofile(r'images/VIRAT_S_010204_09_001285_001336_BICYCLE_TRIM.mp4')"
      ],
      "metadata": {
        "colab": {
          "base_uri": "https://localhost:8080/"
        },
        "id": "CBMI78yUDNxv",
        "outputId": "c27c7742-9140-4077-be2d-b0e9126fe973"
      },
      "execution_count": 61,
      "outputs": [
        {
          "output_type": "stream",
          "name": "stdout",
          "text": [
            "Imageio: 'ffmpeg-linux64-v3.3.1' was not found on your computer; downloading it now.\n",
            "Try 1. Download from https://github.com/imageio/imageio-binaries/raw/master/ffmpeg/ffmpeg-linux64-v3.3.1 (43.8 MB)\n",
            "Downloading: 8192/45929032 bytes (0.0%)\b\b\b\b\b\b\b\b\b\b\b\b\b\b\b\b\b\b\b\b\b\b\b\b\b\b2023424/45929032 bytes (4.4%)\b\b\b\b\b\b\b\b\b\b\b\b\b\b\b\b\b\b\b\b\b\b\b\b\b\b\b\b\b4866048/45929032 bytes (10.6%)\b\b\b\b\b\b\b\b\b\b\b\b\b\b\b\b\b\b\b\b\b\b\b\b\b\b\b\b\b\b7421952/45929032 bytes (16.2%)\b\b\b\b\b\b\b\b\b\b\b\b\b\b\b\b\b\b\b\b\b\b\b\b\b\b\b\b\b\b10395648/45929032 bytes (22.6%)\b\b\b\b\b\b\b\b\b\b\b\b\b\b\b\b\b\b\b\b\b\b\b\b\b\b\b\b\b\b\b13451264/45929032 bytes (29.3%)\b\b\b\b\b\b\b\b\b\b\b\b\b\b\b\b\b\b\b\b\b\b\b\b\b\b\b\b\b\b\b16474112/45929032 bytes (35.9%)\b\b\b\b\b\b\b\b\b\b\b\b\b\b\b\b\b\b\b\b\b\b\b\b\b\b\b\b\b\b\b19365888/45929032 bytes (42.2%)\b\b\b\b\b\b\b\b\b\b\b\b\b\b\b\b\b\b\b\b\b\b\b\b\b\b\b\b\b\b\b22069248/45929032 bytes (48.1%)\b\b\b\b\b\b\b\b\b\b\b\b\b\b\b\b\b\b\b\b\b\b\b\b\b\b\b\b\b\b\b24895488/45929032 bytes (54.2%)\b\b\b\b\b\b\b\b\b\b\b\b\b\b\b\b\b\b\b\b\b\b\b\b\b\b\b\b\b\b\b27721728/45929032 bytes (60.4%)\b\b\b\b\b\b\b\b\b\b\b\b\b\b\b\b\b\b\b\b\b\b\b\b\b\b\b\b\b\b\b30703616/45929032 bytes (66.9%)\b\b\b\b\b\b\b\b\b\b\b\b\b\b\b\b\b\b\b\b\b\b\b\b\b\b\b\b\b\b\b33546240/45929032 bytes (73.0%)\b\b\b\b\b\b\b\b\b\b\b\b\b\b\b\b\b\b\b\b\b\b\b\b\b\b\b\b\b\b\b36364288/45929032 bytes (79.2%)\b\b\b\b\b\b\b\b\b\b\b\b\b\b\b\b\b\b\b\b\b\b\b\b\b\b\b\b\b\b\b39223296/45929032 bytes (85.4%)\b\b\b\b\b\b\b\b\b\b\b\b\b\b\b\b\b\b\b\b\b\b\b\b\b\b\b\b\b\b\b42106880/45929032 bytes (91.7%)\b\b\b\b\b\b\b\b\b\b\b\b\b\b\b\b\b\b\b\b\b\b\b\b\b\b\b\b\b\b\b44949504/45929032 bytes (97.9%)\b\b\b\b\b\b\b\b\b\b\b\b\b\b\b\b\b\b\b\b\b\b\b\b\b\b\b\b\b\b\b45929032/45929032 bytes (100.0%)\n",
            "  Done\n",
            "File saved as /root/.imageio/ffmpeg/ffmpeg-linux64-v3.3.1.\n",
            "[MoviePy] >>>> Building video images/VIRAT_S_010204_09_001285_001336_BICYCLE_TRIM.mp4\n",
            "[MoviePy] Writing video images/VIRAT_S_010204_09_001285_001336_BICYCLE_TRIM.mp4\n"
          ]
        },
        {
          "output_type": "stream",
          "name": "stderr",
          "text": [
            "100%|██████████| 240/240 [00:08<00:00, 27.66it/s]\n"
          ]
        },
        {
          "output_type": "stream",
          "name": "stdout",
          "text": [
            "[MoviePy] Done.\n",
            "[MoviePy] >>>> Video ready: images/VIRAT_S_010204_09_001285_001336_BICYCLE_TRIM.mp4 \n",
            "\n"
          ]
        }
      ]
    },
    {
      "cell_type": "code",
      "source": [
        "video_path = r'images/VIRAT_S_010204_09_001285_001336_BICYCLE_TRIM.mp4'\n",
        "\n",
        "# store some outputs in lists\n",
        "output_frames = []\n",
        "BICYCLE_MEASUREMENTS = []\n",
        "TIMESTAMPS = []\n",
        "\n",
        "cap = cv2.VideoCapture(video_path)\n",
        "if not cap.isOpened():\n",
        "    print(\"Cannot open camera\")\n",
        "    exit()\n",
        "while True:\n",
        "    # Capture frame-by-frame\n",
        "    ret, frame = cap.read()\n",
        "    # if frame is read correctly ret is True\n",
        "    if not ret:\n",
        "        print(\"Can't receive frame (stream end?). Exiting ...\")\n",
        "        break\n",
        "\n",
        "    # prepare frame for model input\n",
        "    frame = cv2.cvtColor(frame, cv2.COLOR_BGR2RGB)\n",
        "    img_out, boxes_int, categories_int, scores = inference(frame, draw_boxes=False)\n",
        "    \n",
        "    # update time stamps\n",
        "    TIMESTAMPS.append(time.time())\n",
        "\n",
        "    # if a Bicycle was detected draw boxes\n",
        "    if 1 in categories_int:\n",
        "        bicycle_locs = categories_int == 1\n",
        "        boxes = boxes_int[bicycle_locs]\n",
        "        cats = categories_int[bicycle_locs]\n",
        "\n",
        "        # draw bicycle bounding box\n",
        "        boxed_image = draw_boxes_v5(img_out, boxes, cats, mot_mode=True)\n",
        "        output_frames.append(boxed_image)\n",
        "        \n",
        "        # update bicycle location\n",
        "        x1, y1 = boxes[0][0], boxes[0][1]\n",
        "        x2, y2 = boxes[0][2], boxes[0][3]\n",
        "        x = (x1 + x2) / 2\n",
        "        y = (y1 + y2) / 2\n",
        "        BICYCLE_MEASUREMENTS.append([x, y])\n",
        "\n",
        "    # else add not detected string\n",
        "    else:\n",
        "        BICYCLE_MEASUREMENTS.append(\"Not detected\")\n",
        "        output_frames.append(img_out)\n",
        "\n",
        "# When everything done, release the capture\n",
        "cap.release()\n",
        "cv2.destroyAllWindows()"
      ],
      "metadata": {
        "colab": {
          "base_uri": "https://localhost:8080/"
        },
        "id": "5kbKtLj3ai5-",
        "outputId": "13f1989d-4709-405d-a452-595665e5814f"
      },
      "execution_count": 20,
      "outputs": [
        {
          "output_type": "stream",
          "name": "stdout",
          "text": [
            "Can't receive frame (stream end?). Exiting ...\n"
          ]
        }
      ]
    },
    {
      "cell_type": "code",
      "source": [
        "BICYCLE_MEASUREMENTS"
      ],
      "metadata": {
        "colab": {
          "base_uri": "https://localhost:8080/"
        },
        "id": "YI4Jb4TTE9Ib",
        "outputId": "5e1ada73-ff1f-43fc-baeb-0ecf366f49df"
      },
      "execution_count": 21,
      "outputs": [
        {
          "output_type": "execute_result",
          "data": {
            "text/plain": [
              "['Not detected',\n",
              " [274.5, 321.5],\n",
              " [278.0, 322.5],\n",
              " [291.0, 318.0],\n",
              " [292.5, 319.5],\n",
              " [292.5, 321.5],\n",
              " [294.0, 322.0],\n",
              " [301.5, 323.0],\n",
              " [304.0, 324.5],\n",
              " [306.0, 325.0],\n",
              " [308.0, 324.5],\n",
              " [311.5, 322.5],\n",
              " [315.5, 323.0],\n",
              " [322.5, 321.0],\n",
              " [325.5, 325.0],\n",
              " [329.5, 325.5],\n",
              " [335.5, 325.5],\n",
              " [337.5, 326.5],\n",
              " [341.0, 324.5],\n",
              " [347.5, 327.0],\n",
              " [350.0, 329.5],\n",
              " [351.0, 329.5],\n",
              " [355.5, 326.0],\n",
              " [359.5, 324.5],\n",
              " [363.0, 323.0],\n",
              " [365.5, 323.0],\n",
              " [367.0, 323.5],\n",
              " [368.0, 324.0],\n",
              " [372.5, 323.5],\n",
              " [375.0, 324.5],\n",
              " [379.0, 324.5],\n",
              " [380.0, 323.0],\n",
              " [385.5, 328.5],\n",
              " [386.0, 328.0],\n",
              " [387.5, 326.5],\n",
              " [388.5, 325.5],\n",
              " [392.5, 324.0],\n",
              " [394.0, 324.0],\n",
              " [395.5, 324.0],\n",
              " [396.5, 325.5],\n",
              " [401.5, 329.5],\n",
              " [402.5, 331.0],\n",
              " [403.0, 330.0],\n",
              " [406.5, 329.5],\n",
              " [409.0, 332.0],\n",
              " [410.5, 331.5],\n",
              " [412.0, 332.5],\n",
              " [414.5, 337.0],\n",
              " [418.5, 336.5],\n",
              " [419.5, 336.0],\n",
              " [421.5, 335.0],\n",
              " [423.5, 335.5],\n",
              " 'Not detected',\n",
              " 'Not detected',\n",
              " 'Not detected',\n",
              " 'Not detected',\n",
              " 'Not detected',\n",
              " 'Not detected',\n",
              " 'Not detected',\n",
              " 'Not detected',\n",
              " 'Not detected',\n",
              " 'Not detected',\n",
              " 'Not detected',\n",
              " 'Not detected',\n",
              " 'Not detected',\n",
              " 'Not detected',\n",
              " 'Not detected',\n",
              " 'Not detected',\n",
              " 'Not detected',\n",
              " 'Not detected',\n",
              " 'Not detected',\n",
              " 'Not detected',\n",
              " 'Not detected',\n",
              " 'Not detected',\n",
              " 'Not detected',\n",
              " 'Not detected',\n",
              " 'Not detected',\n",
              " 'Not detected',\n",
              " 'Not detected',\n",
              " 'Not detected',\n",
              " 'Not detected',\n",
              " 'Not detected',\n",
              " 'Not detected',\n",
              " 'Not detected',\n",
              " 'Not detected',\n",
              " 'Not detected',\n",
              " [516.5, 344.0],\n",
              " [518.5, 346.5],\n",
              " [520.5, 347.0],\n",
              " [524.0, 347.0],\n",
              " [527.0, 348.0],\n",
              " [530.0, 353.0],\n",
              " [533.0, 350.5],\n",
              " [534.5, 351.0],\n",
              " [537.0, 353.0],\n",
              " 'Not detected',\n",
              " [537.5, 355.5],\n",
              " 'Not detected',\n",
              " 'Not detected',\n",
              " 'Not detected',\n",
              " 'Not detected',\n",
              " 'Not detected',\n",
              " 'Not detected',\n",
              " 'Not detected',\n",
              " 'Not detected',\n",
              " 'Not detected',\n",
              " [581.5, 371.5],\n",
              " [581.5, 371.5],\n",
              " [584.0, 363.0],\n",
              " [585.5, 364.0],\n",
              " [590.5, 364.0],\n",
              " [591.5, 364.5],\n",
              " [594.0, 365.0],\n",
              " [595.5, 368.0],\n",
              " [596.5, 369.0],\n",
              " [601.0, 375.0],\n",
              " [602.5, 378.0],\n",
              " [604.5, 369.5],\n",
              " [610.5, 383.5],\n",
              " [610.5, 383.5],\n",
              " [616.0, 380.5],\n",
              " [618.5, 382.0],\n",
              " [622.5, 387.5],\n",
              " [624.5, 388.0],\n",
              " [627.0, 390.0],\n",
              " [629.5, 393.0],\n",
              " [630.5, 392.5],\n",
              " [635.0, 393.5],\n",
              " [636.5, 395.5],\n",
              " [638.5, 395.5],\n",
              " [642.0, 399.0],\n",
              " [642.0, 399.0],\n",
              " [645.5, 400.0],\n",
              " [647.5, 399.5],\n",
              " [651.5, 387.5],\n",
              " [653.0, 389.0],\n",
              " [654.0, 388.5],\n",
              " [655.0, 388.5],\n",
              " [657.0, 390.0],\n",
              " [660.0, 391.0],\n",
              " [663.0, 398.0],\n",
              " [665.0, 400.0],\n",
              " [669.0, 416.5],\n",
              " [669.0, 417.0],\n",
              " [672.0, 402.0],\n",
              " [673.5, 402.5],\n",
              " [679.0, 426.5],\n",
              " [680.5, 427.0],\n",
              " [683.5, 427.0],\n",
              " [685.0, 430.0],\n",
              " [688.5, 432.5],\n",
              " [693.0, 434.5],\n",
              " [694.5, 436.0],\n",
              " [697.5, 436.5],\n",
              " [701.0, 440.0],\n",
              " [701.0, 440.0],\n",
              " [705.5, 443.5],\n",
              " [707.0, 444.5],\n",
              " [711.5, 447.0],\n",
              " [714.0, 447.0],\n",
              " [716.0, 429.0],\n",
              " [718.0, 432.0],\n",
              " [722.0, 437.5],\n",
              " [725.0, 454.0],\n",
              " [727.0, 454.0],\n",
              " [730.0, 456.0],\n",
              " [734.0, 456.5],\n",
              " [734.0, 456.5],\n",
              " [737.5, 465.0],\n",
              " [739.0, 461.0],\n",
              " [744.0, 473.0],\n",
              " [747.0, 474.5],\n",
              " [748.0, 456.0],\n",
              " [750.5, 476.5],\n",
              " [753.0, 482.5],\n",
              " [756.0, 484.0],\n",
              " [758.0, 486.5],\n",
              " [760.0, 493.5],\n",
              " [764.5, 494.5],\n",
              " [764.5, 494.5],\n",
              " [767.5, 500.5],\n",
              " [768.0, 501.5],\n",
              " [771.0, 498.0],\n",
              " [773.0, 508.0],\n",
              " [774.0, 511.0],\n",
              " [775.0, 511.0],\n",
              " [777.0, 515.5],\n",
              " [780.0, 519.5],\n",
              " [782.0, 523.0],\n",
              " [784.0, 525.5],\n",
              " [787.5, 529.0],\n",
              " [787.5, 529.0],\n",
              " [791.0, 524.0],\n",
              " [793.5, 532.5],\n",
              " [796.5, 522.0],\n",
              " [797.5, 524.5],\n",
              " [800.0, 532.0],\n",
              " [803.0, 529.0],\n",
              " [805.5, 532.0],\n",
              " [810.0, 536.0],\n",
              " [813.0, 557.5],\n",
              " [815.0, 570.0],\n",
              " [825.0, 576.5],\n",
              " [825.0, 576.5],\n",
              " [827.5, 561.0],\n",
              " [833.5, 576.0],\n",
              " [838.5, 599.0],\n",
              " [841.5, 599.5],\n",
              " [844.5, 603.5],\n",
              " [847.5, 609.5],\n",
              " [850.0, 613.5],\n",
              " [853.0, 625.0],\n",
              " [859.0, 630.0],\n",
              " [872.5, 630.5],\n",
              " [884.0, 637.0],\n",
              " [884.0, 637.0],\n",
              " [898.0, 642.0],\n",
              " 'Not detected',\n",
              " [920.5, 660.5],\n",
              " [927.5, 664.5],\n",
              " [937.5, 662.0],\n",
              " [945.0, 662.5],\n",
              " [953.5, 664.0],\n",
              " [972.0, 666.5],\n",
              " [981.0, 676.5],\n",
              " [989.5, 679.0],\n",
              " [1009.5, 661.0],\n",
              " [1010.0, 661.0],\n",
              " [1034.5, 656.5],\n",
              " 'Not detected',\n",
              " [1069.5, 662.0],\n",
              " 'Not detected',\n",
              " 'Not detected',\n",
              " 'Not detected',\n",
              " 'Not detected',\n",
              " 'Not detected',\n",
              " 'Not detected',\n",
              " 'Not detected',\n",
              " 'Not detected',\n",
              " 'Not detected']"
            ]
          },
          "metadata": {},
          "execution_count": 21
        }
      ]
    },
    {
      "cell_type": "code",
      "source": [
        "# just for fun, plot the bicycle path!\n",
        "\n",
        "fig, ax = plt.subplots(1, 1, figsize=(15, 8))\n",
        "for xy in BICYCLE_MEASUREMENTS:\n",
        "    if not isinstance(xy, str):\n",
        "        ax.scatter(xy[0], xy[1], marker='o', color='b')"
      ],
      "metadata": {
        "colab": {
          "base_uri": "https://localhost:8080/",
          "height": 483
        },
        "id": "Prqs7AUNAzb1",
        "outputId": "65af53c0-784e-47e1-e34f-d6594f5b356b"
      },
      "execution_count": 22,
      "outputs": [
        {
          "output_type": "display_data",
          "data": {
            "text/plain": [
              "<Figure size 1080x576 with 1 Axes>"
            ],
            "image/png": "[encoded data removed]"
          },
          "metadata": {
            "needs_background": "light"
          }
        }
      ]
    },
    {
      "cell_type": "code",
      "source": [
        "from tqdm import tqdm\n",
        "\n",
        "result_video = []\n",
        "\n",
        "for img in tqdm(output_frames):\n",
        "    result_video.append(img)"
      ],
      "metadata": {
        "colab": {
          "base_uri": "https://localhost:8080/"
        },
        "id": "F9FZd5eUA76Z",
        "outputId": "9ef49f65-bf6c-43ce-9e5a-c988b834fe72"
      },
      "execution_count": 23,
      "outputs": [
        {
          "output_type": "stream",
          "name": "stderr",
          "text": [
            "100%|██████████| 240/240 [00:00<00:00, 794501.15it/s]\n"
          ]
        }
      ]
    },
    {
      "cell_type": "code",
      "source": [
        "out = cv2.VideoWriter('images/BICYCLE_DETECT_0.mp4',cv2.VideoWriter_fourcc(*'MP4V'), 15, (img.shape[1],img.shape[0]))\n",
        "\n",
        "for img in result_video:\n",
        "  out.write(cv2.cvtColor(img, cv2.COLOR_BGR2RGB))\n",
        "out.release()"
      ],
      "metadata": {
        "id": "ekuNhciGBKrj"
      },
      "execution_count": 24,
      "outputs": []
    },
    {
      "cell_type": "markdown",
      "source": [
        "## Get Kalman Filter to track Bicycle"
      ],
      "metadata": {
        "id": "HSOBtQRcPoRo"
      }
    },
    {
      "cell_type": "code",
      "source": [
        "!pip install filterpy"
      ],
      "metadata": {
        "colab": {
          "base_uri": "https://localhost:8080/"
        },
        "id": "rnXr_PX5NokI",
        "outputId": "ce77aba1-3b8b-4e8e-cb8b-42677f895d06"
      },
      "execution_count": 25,
      "outputs": [
        {
          "output_type": "stream",
          "name": "stdout",
          "text": [
            "Looking in indexes: https://pypi.org/simple, https://us-python.pkg.dev/colab-wheels/public/simple/\n",
            "Collecting filterpy\n",
            "  Downloading filterpy-1.4.5.zip (177 kB)\n",
            "\u001b[K     |████████████████████████████████| 177 kB 21.7 MB/s \n",
            "\u001b[?25hRequirement already satisfied: numpy in /usr/local/lib/python3.7/dist-packages (from filterpy) (1.21.6)\n",
            "Requirement already satisfied: scipy in /usr/local/lib/python3.7/dist-packages (from filterpy) (1.4.1)\n",
            "Requirement already satisfied: matplotlib in /usr/local/lib/python3.7/dist-packages (from filterpy) (3.2.2)\n",
            "Requirement already satisfied: python-dateutil>=2.1 in /usr/local/lib/python3.7/dist-packages (from matplotlib->filterpy) (2.8.2)\n",
            "Requirement already satisfied: kiwisolver>=1.0.1 in /usr/local/lib/python3.7/dist-packages (from matplotlib->filterpy) (1.4.3)\n",
            "Requirement already satisfied: pyparsing!=2.0.4,!=2.1.2,!=2.1.6,>=2.0.1 in /usr/local/lib/python3.7/dist-packages (from matplotlib->filterpy) (3.0.9)\n",
            "Requirement already satisfied: cycler>=0.10 in /usr/local/lib/python3.7/dist-packages (from matplotlib->filterpy) (0.11.0)\n",
            "Requirement already satisfied: typing-extensions in /usr/local/lib/python3.7/dist-packages (from kiwisolver>=1.0.1->matplotlib->filterpy) (4.1.1)\n",
            "Requirement already satisfied: six>=1.5 in /usr/local/lib/python3.7/dist-packages (from python-dateutil>=2.1->matplotlib->filterpy) (1.15.0)\n",
            "Building wheels for collected packages: filterpy\n",
            "  Building wheel for filterpy (setup.py) ... \u001b[?25l\u001b[?25hdone\n",
            "  Created wheel for filterpy: filename=filterpy-1.4.5-py3-none-any.whl size=110474 sha256=c14dbcce0c213a6ac5779dd796fd931047d984956455b327b01bd8ba0baf61c0\n",
            "  Stored in directory: /root/.cache/pip/wheels/ce/e0/ee/a2b3c5caab3418c1ccd8c4de573d4cbe13315d7e8b0a55fbc2\n",
            "Successfully built filterpy\n",
            "Installing collected packages: filterpy\n",
            "Successfully installed filterpy-1.4.5\n"
          ]
        }
      ]
    },
    {
      "cell_type": "code",
      "source": [
        "from filterpy.kalman import KalmanFilter\n",
        "from scipy.linalg import block_diag\n",
        "from filterpy.common import Q_discrete_white_noise\n",
        "import numpy as np\n",
        "import matplotlib.pyplot as plt\n",
        "\n",
        "\n",
        "def TwoDimensionsKF(R_std, Q_std, dt, w, h):\n",
        "    ''' creates and instantiates a filterpy 2D Kalman Filter object\n",
        "        with a 2D constant acceleration model\n",
        "        Inputs:\n",
        "            R_Std (float) - measurement uncertainty\n",
        "            Q_std (float) - Proccess noise covariance\n",
        "            dt (float) - System Time Step\n",
        "            w (int) - Frame Width\n",
        "            h (int) - Frame Height\n",
        "        Outputs:\n",
        "            kf (filterpy object) 2D Kalman Filter object\n",
        "    '''\n",
        "    kf = KalmanFilter(dim_x=6, dim_z=2)\n",
        "    kf.x = np.array([w//2, h//2, 0.1, 0.1, 0, 0]) # initial state (center of frame)\n",
        "    kf.P = np.eye(6)*150 # np.max([w//2, h//2])\n",
        "    q = Q_discrete_white_noise(dim=3, dt=dt, var=Q_std**2)\n",
        "    kf.Q = block_diag(q, q) # Process noise covariance\n",
        "    kf.R = np.eye(2) * R_std # measurement uncertainty/noise\n",
        "    kf.H = np.array([[1, 0, 0, 0, 0, 0],  # measurement function\n",
        "                     [0, 1, 0, 0, 0, 0]])\n",
        "    kf.F = np.array([[1, 0, dt, 0, 0.5*dt*dt, 0],     # state transition matrix\n",
        "                     [0, 1, 0,  dt, 0,        0.5*dt*dt],\n",
        "                     [0, 0, 1,  0,  dt,       0],\n",
        "                     [0, 0, 0,  1,  0,        dt],\n",
        "                     [0, 0, 0,  0,  1,        0],\n",
        "                     [0, 0, 0,  0,  0,        1]])\n",
        "\n",
        "    return kf"
      ],
      "metadata": {
        "id": "cbByzgLYPy-3"
      },
      "execution_count": 314,
      "outputs": []
    },
    {
      "cell_type": "code",
      "source": [
        "R_std = 15 # 5 # measurement uncertainty\n",
        "Q_std = 1.25 # 1.5 # process noise\n",
        "dt = np.median(np.diff(TIMESTAMPS)) # time delta\n",
        "\n",
        "# use with P = 100\n",
        "# R_std = 7.5 # measurement uncertainty\n",
        "# Q_std = 0.7 # process noise\n",
        "# dt = np.mean(np.diff(TIMESTAMPS)) # time delta\n",
        "\n",
        "# R_std = 25   # measurement uncertainty\n",
        "# Q_std = 0.35 # process noise\n",
        "# dt = 0.5     # time delta\n",
        "\n",
        "# frame width and height\n",
        "w, h = 1280, 720\n",
        "\n",
        "# initialize Kalman Filter\n",
        "kf = TwoDimensionsKF(R_std, Q_std, dt, w, h)\n",
        "\n",
        "# store values in lists\n",
        "updates = [] # estimates from measurement updates\n",
        "preds = [] # estimates from predictions\n",
        "\n",
        "# iterate through the measurements\n",
        "for xy in BICYCLE_MEASUREMENTS:\n",
        "    # Predict next state\n",
        "    kf.predict()\n",
        "\n",
        "    # update state with new measurement\n",
        "    if not isinstance(xy, str):\n",
        "       kf.update(xy)\n",
        "       updates.append(kf.x)\n",
        "    \n",
        "    # else:\n",
        "      # append prediction if measurment not taken\n",
        "    preds.append(kf.x)\n",
        "\n",
        "    # print(np.round(kf.P[0,0]))"
      ],
      "metadata": {
        "id": "jsH_Nq7oQFeh"
      },
      "execution_count": 321,
      "outputs": []
    },
    {
      "cell_type": "code",
      "source": [
        "updates_arr = np.array(updates)\n",
        "preds_arr = np.array(preds)\n",
        "pos_updates = updates_arr[:, :2]\n",
        "pos_preds = preds_arr[:, :2]\n",
        "\n",
        "print(updates_arr.shape)\n",
        "print(preds_arr.shape)"
      ],
      "metadata": {
        "colab": {
          "base_uri": "https://localhost:8080/"
        },
        "id": "Q8N5e8qFQKlW",
        "outputId": "8c89e117-e6d6-47a1-8980-4a28580da189"
      },
      "execution_count": 322,
      "outputs": [
        {
          "output_type": "stream",
          "name": "stdout",
          "text": [
            "(184, 6)\n",
            "(240, 6)\n"
          ]
        }
      ]
    },
    {
      "cell_type": "code",
      "source": [
        "fig = plt.figure(figsize=(15, 8))\n",
        "for xy in BICYCLE_MEASUREMENTS:\n",
        "  if not isinstance(xy, str):\n",
        "    plt.scatter(xy[0], xy[1], marker='D', color='b')\n",
        "\n",
        "plt.scatter(pos_updates[:, 0], pos_updates[:, 1], marker='d', color='m')\n",
        "plt.scatter(pos_preds[:, 0], pos_preds[:, 1], marker='.', color='r')"
      ],
      "metadata": {
        "colab": {
          "base_uri": "https://localhost:8080/",
          "height": 500
        },
        "id": "GlVZDA-AQL8-",
        "outputId": "6ebb9905-6b6a-4c61-a589-5af65ea15aeb"
      },
      "execution_count": 323,
      "outputs": [
        {
          "output_type": "execute_result",
          "data": {
            "text/plain": [
              "<matplotlib.collections.PathCollection at 0x7ffacca53a90>"
            ]
          },
          "metadata": {},
          "execution_count": 323
        },
        {
          "output_type": "display_data",
          "data": {
            "text/plain": [
              "<Figure size 1080x576 with 1 Axes>"
            ],
            "image/png": "[encoded data removed]"
          },
          "metadata": {
            "needs_background": "light"
          }
        }
      ]
    },
    {
      "cell_type": "code",
      "source": [
        "pos_preds[:20]"
      ],
      "metadata": {
        "colab": {
          "base_uri": "https://localhost:8080/"
        },
        "id": "mMOM4Z3JXvFq",
        "outputId": "0349ce71-35ed-4969-ffc3-f00fd74c6805"
      },
      "execution_count": 324,
      "outputs": [
        {
          "output_type": "execute_result",
          "data": {
            "text/plain": [
              "array([[     640.02,      360.02],\n",
              "       [     301.76,      324.36],\n",
              "       [     273.74,      321.84],\n",
              "       [     272.97,      318.18],\n",
              "       [     279.38,       317.7],\n",
              "       [     285.69,      319.18],\n",
              "       [     291.63,      320.65],\n",
              "       [     300.18,      322.28],\n",
              "       [     306.97,      324.18],\n",
              "       [     311.97,      325.62],\n",
              "       [     315.59,      326.15],\n",
              "       [     319.01,      325.32],\n",
              "       [     322.54,       324.9],\n",
              "       [     327.58,      323.55],\n",
              "       [     331.72,      324.45],\n",
              "       [     335.72,      325.24],\n",
              "       [     340.48,      325.74],\n",
              "       [     344.04,      326.43],\n",
              "       [     347.37,      325.97],\n",
              "       [      351.8,      326.62]])"
            ]
          },
          "metadata": {},
          "execution_count": 324
        }
      ]
    },
    {
      "cell_type": "code",
      "source": [
        "R_std = 7.5                       # measurement uncertainty\n",
        "Q_std = 0.7                       # process noise\n",
        "dt = np.mean(np.diff(TIMESTAMPS)) # time delta\n",
        "\n",
        "# frame width and height\n",
        "w, h = 1280, 720\n",
        "\n",
        "# initialize Kalman Filter\n",
        "kf = TwoDimensionsKF(R_std, Q_std, dt, w, h)\n",
        "\n",
        "def main_pipeline(image):\n",
        "    # Predict next state\n",
        "    kf.predict()\n",
        "\n",
        "    # prepare frame for model input\n",
        "    image = cv2.cvtColor(image, cv2.COLOR_BGR2RGB)\n",
        "    img_out, boxes_int, categories_int, scores = inference(image, draw_boxes=False)\n",
        "\n",
        "    # if a Bicycle was detected draw boxes\n",
        "    if 1 in categories_int:\n",
        "        bicycle_locs = categories_int == 1\n",
        "        boxes = boxes_int[bicycle_locs]\n",
        "        cats = categories_int[bicycle_locs]\n",
        "\n",
        "        # draw bicycle bounding box\n",
        "        img_out = draw_boxes_v5(img_out, boxes, cats, mot_mode=True)\n",
        "        \n",
        "        # update bicycle location\n",
        "        x1, y1 = boxes[0][0], boxes[0][1]\n",
        "        x2, y2 = boxes[0][2], boxes[0][3]\n",
        "        x = (x1 + x2) / 2\n",
        "        y = (y1 + y2) / 2\n",
        "\n",
        "        # update state based on new measurement\n",
        "        kf.update(np.array([x, y]))\n",
        "\n",
        "    # draw new estimate point on image\n",
        "    x_est, y_est = int(np.round(kf.x[0])), int(np.round(kf.x[1]))\n",
        "    cv2.circle(img_out, (x_est, y_est), 5, (0, 255, 0), -1)\n",
        "\n",
        "    return img_out\n",
        "\n"
      ],
      "metadata": {
        "id": "lpPrtOmRQO9a"
      },
      "execution_count": 325,
      "outputs": []
    },
    {
      "cell_type": "code",
      "source": [
        "from moviepy.editor import VideoFileClip\n",
        "# video_file = \"/content/drive/My Drive/think_autonomous/kalman_filters_course/images/detect.mp4\"\n",
        "video_path = r'images/VIRAT_S_010204_09_001285_001336_BICYCLE_TRIM.mp4'\n",
        "clip = VideoFileClip(video_path)\n",
        "tracked_clip = clip.fl_image(main_pipeline)\n",
        "%time tracked_clip.write_videofile(\"/content/drive/My Drive/think_autonomous/kalman_filters_course/images/track2.mp4\",audio=False)"
      ],
      "metadata": {
        "colab": {
          "base_uri": "https://localhost:8080/"
        },
        "id": "hm0Yd1ELTUFf",
        "outputId": "4674c1a8-8c19-48cd-90f6-3e255b6a878b"
      },
      "execution_count": 326,
      "outputs": [
        {
          "output_type": "stream",
          "name": "stdout",
          "text": [
            "[MoviePy] >>>> Building video /content/drive/My Drive/think_autonomous/kalman_filters_course/images/track2.mp4\n",
            "[MoviePy] Writing video /content/drive/My Drive/think_autonomous/kalman_filters_course/images/track2.mp4\n"
          ]
        },
        {
          "output_type": "stream",
          "name": "stderr",
          "text": [
            "100%|█████████▉| 240/241 [01:10<00:00,  3.40it/s]\n"
          ]
        },
        {
          "output_type": "stream",
          "name": "stdout",
          "text": [
            "[MoviePy] Done.\n",
            "[MoviePy] >>>> Video ready: /content/drive/My Drive/think_autonomous/kalman_filters_course/images/track2.mp4 \n",
            "\n",
            "CPU times: user 1min 6s, sys: 16.4 s, total: 1min 22s\n",
            "Wall time: 1min 11s\n"
          ]
        }
      ]
    },
    {
      "cell_type": "code",
      "source": [
        ""
      ],
      "metadata": {
        "id": "qj27TOQ_TYD4"
      },
      "execution_count": 326,
      "outputs": []
    }
  ]
}