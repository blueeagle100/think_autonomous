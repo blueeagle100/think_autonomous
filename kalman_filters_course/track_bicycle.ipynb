{
  "nbformat": 4,
  "nbformat_minor": 0,
  "metadata": {
    "colab": {
      "name": "track_bicycle.ipynb",
      "provenance": [],
      "collapsed_sections": [],
      "authorship_tag": "ABX9TyP/cIeqBXqcjCk08qNNdgII",
      "include_colab_link": true
    },
    "kernelspec": {
      "name": "python3",
      "display_name": "Python 3"
    },
    "language_info": {
      "name": "python"
    }
  },
  "cells": [
    {
      "cell_type": "markdown",
      "metadata": {
        "id": "view-in-github",
        "colab_type": "text"
      },
      "source": [
        "<a href=\"https://colab.research.google.com/github/blueeagle100/think_autonomous/blob/main/kalman_filters_course/track_bicycle.ipynb\" target=\"_parent\"><img src=\"https://colab.research.google.com/assets/colab-badge.svg\" alt=\"Open In Colab\"/></a>"
      ]
    },
    {
      "cell_type": "markdown",
      "source": [
        "# Final Project for Think Autonoumous Kalman Filters Course"
      ],
      "metadata": {
        "id": "qYNHHnHkWmAi"
      }
    },
    {
      "cell_type": "code",
      "source": [
        "!git clone https://github.com/ultralytics/yolov5  # clone\n",
        "%cd yolov5\n",
        "%pip install -qr requirements.txt  # install"
      ],
      "metadata": {
        "colab": {
          "base_uri": "https://localhost:8080/"
        },
        "id": "y3FuVdsaWfOT",
        "outputId": "79c4b677-1a6a-4652-99ec-b693e844e312"
      },
      "execution_count": 2,
      "outputs": [
        {
          "output_type": "stream",
          "name": "stdout",
          "text": [
            "Cloning into 'yolov5'...\n",
            "remote: Enumerating objects: 12447, done.\u001b[K\n",
            "remote: Total 12447 (delta 0), reused 0 (delta 0), pack-reused 12447\u001b[K\n",
            "Receiving objects: 100% (12447/12447), 12.15 MiB | 29.85 MiB/s, done.\n",
            "Resolving deltas: 100% (8591/8591), done.\n",
            "/content/yolov5\n",
            "\u001b[K     |████████████████████████████████| 596 kB 5.5 MB/s \n",
            "\u001b[?25h"
          ]
        }
      ]
    },
    {
      "cell_type": "code",
      "source": [
        "import os\n",
        "from google.colab import drive\n",
        "drive.mount('/content/drive', force_remount=False)\n",
        "\n",
        "os.chdir(\"/content/drive/My Drive/think_autonomous/kalman_filters_course\")\n",
        "!ls"
      ],
      "metadata": {
        "id": "J8ktdsPUWr8f"
      },
      "execution_count": null,
      "outputs": []
    },
    {
      "cell_type": "code",
      "source": [
        "!python detect.py --weights yolov5s.pt --img 640 --conf 0.25 --source data/images"
      ],
      "metadata": {
        "id": "B7BxcfJeW6_3"
      },
      "execution_count": null,
      "outputs": []
    }
  ]
}