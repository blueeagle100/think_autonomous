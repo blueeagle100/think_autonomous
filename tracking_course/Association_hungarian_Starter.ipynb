{
  "nbformat": 4,
  "nbformat_minor": 0,
  "metadata": {
    "colab": {
      "name": "Association_hungarian_Starter.ipynb",
      "provenance": [],
      "collapsed_sections": [],
      "include_colab_link": true
    },
    "kernelspec": {
      "name": "python3",
      "display_name": "Python 3"
    }
  },
  "cells": [
    {
      "cell_type": "markdown",
      "metadata": {
        "id": "view-in-github",
        "colab_type": "text"
      },
      "source": [
        "<a href=\"https://colab.research.google.com/github/blueeagle100/tracking_course/blob/master/Association_hungarian_Starter.ipynb\" target=\"_parent\"><img src=\"https://colab.research.google.com/assets/colab-badge.svg\" alt=\"Open In Colab\"/></a>"
      ]
    },
    {
      "cell_type": "markdown",
      "metadata": {
        "id": "Z-Zy5R377k8C"
      },
      "source": [
        "# Welcome to the Association Workshop\n",
        "You will learn how to associate bounding boxes using The Hungarian Algorithm\n"
      ]
    },
    {
      "cell_type": "markdown",
      "metadata": {
        "id": "ou2n2iHr1uoL"
      },
      "source": [
        "### Let's start with the problem we want to solve! We'll create two bounding boxes and try to associate them!"
      ]
    },
    {
      "cell_type": "code",
      "metadata": {
        "id": "lkFrXEr31UKq",
        "outputId": "031c7590-fc12-4208-aef4-a77175bbfef0",
        "colab": {
          "base_uri": "https://localhost:8080/"
        }
      },
      "source": [
        "import random\n",
        "from scipy.optimize import linear_sum_assignment\n",
        "import numpy as np\n",
        "\n",
        "# Detections at time 0\n",
        "A = [100, 120, 130, 330]\n",
        "B = [300, 350, 400, 400]\n",
        "C = [ 577, 138, 709, 244]\n",
        "\n",
        "# Detections at time 1\n",
        "D = [50, 400, 100, 550] # Should no frame\n",
        "E = [99, 120, 132, 333] # Should match frame A\n",
        "F = [302, 352, 406, 400] # Shold match frame B\n",
        "\n",
        "old = [A,B,C]\n",
        "new = [D,E,F]\n",
        "print(old)\n",
        "print(new)"
      ],
      "execution_count": 8,
      "outputs": [
        {
          "output_type": "stream",
          "name": "stdout",
          "text": [
            "[[100, 120, 130, 330], [300, 350, 400, 400], [577, 138, 709, 244]]\n",
            "[[50, 400, 100, 550], [99, 120, 132, 333], [302, 352, 406, 400]]\n"
          ]
        }
      ]
    },
    {
      "cell_type": "code",
      "source": [
        "import os\n",
        "print(os.getcwd())"
      ],
      "metadata": {
        "colab": {
          "base_uri": "https://localhost:8080/"
        },
        "id": "vGbFcVlkAIQb",
        "outputId": "eb81ee44-c60e-49cf-fbd1-4a7b7cbe3cba"
      },
      "execution_count": 9,
      "outputs": [
        {
          "output_type": "stream",
          "name": "stdout",
          "text": [
            "/content\n"
          ]
        }
      ]
    },
    {
      "cell_type": "markdown",
      "metadata": {
        "id": "Cc2PDuhJ2ZWI"
      },
      "source": [
        "### Since bounding box coordinates is all we have, we'll match using the IOU metric\n",
        "\n",
        "\n",
        "1. Create a matrix and store the IOU for all boxes\n",
        "2. Apply the Hungarian Algorithm\n",
        "3. Identify false positives and false negatives"
      ]
    },
    {
      "cell_type": "code",
      "metadata": {
        "id": "pX7yTGkG33g-"
      },
      "source": [
        "### HELPER IOU FUNCTION\n",
        "def box_iou(box1, box2):\n",
        "\txA = max(box1[0], box2[0])\n",
        "\tyA = max(box1[1], box2[1])\n",
        "\txB = min(box1[2], box2[2])\n",
        "\tyB = min(box1[3], box2[3])\n",
        "\tinter_area = max(0, xB - xA + 1) * max(0, yB - yA + 1) #abs((xi2 - xi1)*(yi2 - yi1))\n",
        "\t# Calculate the Union area by using Formula: Union(A,B) = A + B - Inter(A,B)\n",
        "\tbox1_area = (box1[2] - box1[0] + 1) * (box1[3] - box1[1] + 1) #abs((box1[3] - box1[1])*(box1[2]- box1[0]))\n",
        "\tbox2_area = (box2[2] - box2[0] + 1) * (box2[3] - box2[1] + 1) #abs((box2[3] - box2[1])*(box2[2]- box2[0]))\n",
        "\tunion_area = (box1_area + box2_area) - inter_area\n",
        "\t# compute the IoU\n",
        "\tiou = inter_area/float(union_area)\n",
        "\treturn iou"
      ],
      "execution_count": 10,
      "outputs": []
    },
    {
      "cell_type": "code",
      "source": [
        "box_iou(A, B)"
      ],
      "metadata": {
        "colab": {
          "base_uri": "https://localhost:8080/"
        },
        "id": "bHZyC8BWCxTP",
        "outputId": "e8d5df29-a57f-48bf-d2b3-6b5cfec6f3e6"
      },
      "execution_count": 21,
      "outputs": [
        {
          "output_type": "execute_result",
          "data": {
            "text/plain": [
              "0.0"
            ]
          },
          "metadata": {},
          "execution_count": 21
        }
      ]
    },
    {
      "cell_type": "code",
      "metadata": {
        "id": "yKt2hAcc1s5-",
        "colab": {
          "base_uri": "https://localhost:8080/"
        },
        "outputId": "92b607e9-9de1-44d5-dc80-c6ce442a7a94"
      },
      "source": [
        "# Go through old boxes and new boxes and compute an IOU to store in a matrix\n",
        "\n",
        "#TODO\n",
        "\n",
        "iou_mat = np.zeros((3,3))\n",
        "for i in range(len(old)):\n",
        "  for j in range(len(new)):\n",
        "    iou_mat[i, j] = box_iou(old[i], new[j])\n",
        "\n",
        "iou_mat"
      ],
      "execution_count": 147,
      "outputs": [
        {
          "output_type": "execute_result",
          "data": {
            "text/plain": [
              "array([[0.        , 0.89898296, 0.        ],\n",
              "       [0.        , 0.        , 0.89090909],\n",
              "       [0.        , 0.        , 0.        ]])"
            ]
          },
          "metadata": {},
          "execution_count": 147
        }
      ]
    },
    {
      "cell_type": "code",
      "metadata": {
        "id": "TffZoXXc4LWU",
        "colab": {
          "base_uri": "https://localhost:8080/"
        },
        "outputId": "249a1a68-1228-440e-9f59-7fef52b8b64a"
      },
      "source": [
        "# Go through the IOU matrix and replace positive values with 1\n",
        "# Always take the maximum value (if there are two positive values)\n",
        "# TODO\n",
        "\n",
        "# iou_mat[iou_mat > 0] = 1\n",
        "\n",
        "# better way \n",
        "for idx, iou in enumerate(iou_mat):\n",
        "  iou_mat[idx] = [1 if (x == iou.max() and iou.max() > 0) else 0 for x in iou]\n",
        "  \n",
        "iou_mat"
      ],
      "execution_count": 148,
      "outputs": [
        {
          "output_type": "execute_result",
          "data": {
            "text/plain": [
              "array([[0., 1., 0.],\n",
              "       [0., 0., 1.],\n",
              "       [0., 0., 0.]])"
            ]
          },
          "metadata": {},
          "execution_count": 148
        }
      ]
    },
    {
      "cell_type": "code",
      "metadata": {
        "id": "wPDGZWny4mYf",
        "colab": {
          "base_uri": "https://localhost:8080/"
        },
        "outputId": "6b850430-c87c-4089-b03b-0d7807b58a3f"
      },
      "source": [
        "# Call the Linear Assignment Method (Hungarian Algorithm)\n",
        "# Watch for the minimization vs maximization assignment problem\n",
        "hungarian_row, hungarian_col = linear_sum_assignment(-iou_mat)\n",
        "print(hungarian_row)\n",
        "print(hungarian_col)"
      ],
      "execution_count": 74,
      "outputs": [
        {
          "output_type": "stream",
          "name": "stdout",
          "text": [
            "[0 1 2]\n",
            "[1 2 0]\n"
          ]
        }
      ]
    },
    {
      "cell_type": "code",
      "metadata": {
        "id": "3ldjPnM24kaH"
      },
      "source": [
        "# Declate a list for matches, unmatched detections, and unmatched trackings\n",
        "matches = []\n",
        "unmatched_trackers, unmatched_detections = [], []"
      ],
      "execution_count": 75,
      "outputs": []
    },
    {
      "cell_type": "code",
      "source": [
        "# hungarian = np.array(list(zip(hungarian_row, hungarian_col)))\n",
        "hungarian = np.vstack((hungarian_row, hungarian_col)).T\n",
        "print(hungarian)"
      ],
      "metadata": {
        "colab": {
          "base_uri": "https://localhost:8080/"
        },
        "id": "5-dmjrJJ7PH5",
        "outputId": "6d8a3a6c-9b07-44b6-9cb3-8697668f28be"
      },
      "execution_count": 76,
      "outputs": [
        {
          "output_type": "stream",
          "name": "stdout",
          "text": [
            "[[0 1]\n",
            " [1 2]\n",
            " [2 0]]\n"
          ]
        }
      ]
    },
    {
      "cell_type": "code",
      "source": [
        "display_match = []\n",
        "\n",
        "for h in hungarian:\n",
        "  iou = iou_mat[h[0], h[1]]\n",
        "\n",
        "  if iou > 0:\n",
        "    matches.append(h)\n",
        "    display_match.append((new[h[1]], old[h[0]]))\n",
        "\n",
        "  else:\n",
        "    # print(old[h[0]]) # previously tracked objects\n",
        "    # print(new[h[1]]) # new detections\n",
        "\n",
        "    unmatched_trackers.append(old[h[0]])\n",
        "    unmatched_detections.append(new[h[1]])\n",
        "\n",
        "print(\"Matches \")\n",
        "print( matches)\n",
        "print(\"Unmatched det\")\n",
        "print(unmatched_detections)\n",
        "print(\"Unmatched Trackers\")\n",
        "print(unmatched_trackers)"
      ],
      "metadata": {
        "colab": {
          "base_uri": "https://localhost:8080/"
        },
        "id": "OWH-FOdrF3TZ",
        "outputId": "e2125244-8f99-48fc-a5f2-8295bcf2dbac"
      },
      "execution_count": 77,
      "outputs": [
        {
          "output_type": "stream",
          "name": "stdout",
          "text": [
            "Matches \n",
            "[array([0, 1]), array([1, 2])]\n",
            "Unmatched det\n",
            "[[50, 400, 100, 550]]\n",
            "Unmatched Trackers\n",
            "[[577, 138, 709, 244]]\n"
          ]
        }
      ]
    },
    {
      "cell_type": "code",
      "metadata": {
        "id": "wjvUvqYFjoXP",
        "colab": {
          "base_uri": "https://localhost:8080/"
        },
        "outputId": "10d34854-8c9f-405f-bfe1-96ade47b0f5d"
      },
      "source": [
        "# Go through the hungarian matrix\n",
        "# Take the match using the old and new boxes and the match indications\n",
        "# Check that the IOU is >0 and keep the bounding box if so\n",
        "# Otherwise add it to unmatched detections and trackings\n",
        "\n",
        "for h in hungarian:\n",
        "  iou = iou_mat[h[0], h[1]]\n",
        "\n",
        "  if iou > 0:\n",
        "    matches.append(h)\n",
        "\n",
        "  else:\n",
        "    # print(old[h[0]]) # previously tracked objects\n",
        "    # print(new[h[1]]) # new detections\n",
        "\n",
        "    unmatched_trackers.append(old[h[0]])\n",
        "    unmatched_detections.append(new[h[1]])\n",
        "\n",
        "\n",
        "print(\"Matches \")\n",
        "print( matches)\n",
        "print(\"Unmatched det\")\n",
        "print(unmatched_detections)\n",
        "print(\"Unmatched Trackers\")\n",
        "print(unmatched_trackers)"
      ],
      "execution_count": null,
      "outputs": [
        {
          "output_type": "stream",
          "name": "stdout",
          "text": [
            "Matches \n",
            "[[0 1]\n",
            " [1 2]]\n",
            "Unmatched det\n",
            "[[50, 400, 100, 550]]\n",
            "Unmatched Trackers\n",
            "[[577, 138, 709, 244]]\n"
          ]
        }
      ]
    },
    {
      "cell_type": "code",
      "metadata": {
        "id": "nmOt7EiqkXCg"
      },
      "source": [
        "# Go through old bounding boxes and add old boxes that didn't match to unmatched trackers\n",
        "\n",
        "\n",
        "for t, trk in enumerate(old):\n",
        "    if t not in hungarian[:,0]:\n",
        "        unmatched_trackers.append(trk)\n",
        "\n",
        "# Do the same for new detections\n",
        "for d, det in enumerate(old):\n",
        "  if d not in hungarian[:,1]:\n",
        "    unmatched_trackers.append(det)\n"
      ],
      "execution_count": 84,
      "outputs": []
    },
    {
      "cell_type": "code",
      "source": [
        "print(\"Matched Detections\")\n",
        "print(display_match)\n",
        "print(\"Unmatched Detections \")\n",
        "print(np.array(unmatched_detections))\n",
        "print(\"Unmatched trackers \")\n",
        "print(np.array(unmatched_trackers))   "
      ],
      "metadata": {
        "colab": {
          "base_uri": "https://localhost:8080/"
        },
        "id": "RP0zvuTEH0Zq",
        "outputId": "2cb40fc0-f429-43d6-e773-3709bf9502ba"
      },
      "execution_count": 85,
      "outputs": [
        {
          "output_type": "stream",
          "name": "stdout",
          "text": [
            "Matched Detections\n",
            "[([99, 120, 132, 333], [100, 120, 130, 330]), ([302, 352, 406, 400], [300, 350, 400, 400])]\n",
            "Unmatched Detections \n",
            "[[ 50 400 100 550]]\n",
            "Unmatched trackers \n",
            "[[577 138 709 244]]\n"
          ]
        }
      ]
    },
    {
      "cell_type": "code",
      "metadata": {
        "id": "iF9OwM975ck-",
        "outputId": "47c85e86-5b17-448f-a9a7-1219a1057452",
        "colab": {
          "base_uri": "https://localhost:8080/"
        }
      },
      "source": [
        "# Now, we want to display the matched bounding boxes\n",
        "# Display everything properly \n",
        "\n",
        "print(\"Matched Detections\")\n",
        "print(display_match)\n",
        "print(\"Unmatched Detections \")\n",
        "print(np.array(unmatched_detections))\n",
        "print(\"Unmatched trackers \")\n",
        "print(np.array(unmatched_trackers))       "
      ],
      "execution_count": null,
      "outputs": [
        {
          "output_type": "stream",
          "name": "stdout",
          "text": [
            "Matched Detections\n",
            "[([99, 120, 132, 333], [100, 120, 130, 330]), ([302, 352, 406, 400], [300, 350, 400, 400])]\n",
            "Unmatched Detections \n",
            "[[ 50 400 100 550]]\n",
            "Unmatched trackers \n",
            "[[577 138 709 244]]\n"
          ]
        }
      ]
    },
    {
      "cell_type": "markdown",
      "source": [
        "#### Display Bounding Boxes"
      ],
      "metadata": {
        "id": "01RXSmkMO2aS"
      }
    },
    {
      "cell_type": "code",
      "metadata": {
        "id": "qHURprhBuyNE"
      },
      "source": [
        "import cv2\n",
        "import matplotlib.pyplot as plt\n",
        "\n",
        "plt.rcParams[\"figure.figsize\"] = (20,10)"
      ],
      "execution_count": 110,
      "outputs": []
    },
    {
      "cell_type": "code",
      "source": [
        "old_ref = ['A', 'B', 'C']\n",
        "new_ref = ['D', 'E', 'F']"
      ],
      "metadata": {
        "id": "il2S8vNIPVKd"
      },
      "execution_count": 129,
      "outputs": []
    },
    {
      "cell_type": "code",
      "source": [
        "img = np.zeros((1000, 1000, 3)) \n",
        "\n",
        "for i in range(len(old_ref)):\n",
        "  o = old[i]\n",
        "  cv2.rectangle(img, (o[0],o[1]), (o[2],o[3]), [0, 255, 0], 5)\n",
        "  cv2.putText(\n",
        "     img, #numpy array on which text is written\n",
        "     old_ref[i], #text\n",
        "     (o[0],o[1] - 10), #position at which writing has to start\n",
        "     cv2.FONT_HERSHEY_SIMPLEX, #font family\n",
        "     1, #font size\n",
        "     (20, 255, 20), #font color\n",
        "     3) # font stroke\n",
        "\n",
        "for i in range(len(new_ref)):\n",
        "  n = new[i]\n",
        "  cv2.rectangle(img, (n[0],n[1]), (n[2],n[3]), [255, 0, 0], 5)\n",
        "  cv2.putText(\n",
        "     img, #numpy array on which text is written\n",
        "     new_ref[i], #text\n",
        "     (n[2]+5,n[3]), #position at which writing has to start\n",
        "     cv2.FONT_HERSHEY_SIMPLEX, #font family\n",
        "     1, #font size\n",
        "     (255, 20, 20), #font color\n",
        "     3) # font stroke\n",
        "\n",
        "plt.imshow(img);"
      ],
      "metadata": {
        "colab": {
          "base_uri": "https://localhost:8080/",
          "height": 613
        },
        "id": "FCNqeLpZMBWJ",
        "outputId": "7d059777-5358-4ef7-c54e-f6e328a1c7fd"
      },
      "execution_count": 136,
      "outputs": [
        {
          "output_type": "stream",
          "name": "stderr",
          "text": [
            "Clipping input data to the valid range for imshow with RGB data ([0..1] for floats or [0..255] for integers).\n"
          ]
        },
        {
          "output_type": "display_data",
          "data": {
            "text/plain": [
              "<Figure size 1440x720 with 1 Axes>"
            ],
            "image/png": "[encoded data removed]"
          },
          "metadata": {
            "needs_background": "light"
          }
        }
      ]
    },
    {
      "cell_type": "code",
      "source": [
        ""
      ],
      "metadata": {
        "id": "Oazi9QnLMT61"
      },
      "execution_count": 112,
      "outputs": []
    }
  ]
}